{
 "cells": [
  {
   "cell_type": "markdown",
   "id": "composed-watch",
   "metadata": {},
   "source": [
    "# UTS Data Science - Klasifikasi Email Spam"
   ]
  },
  {
   "cell_type": "markdown",
   "id": "electronic-satisfaction",
   "metadata": {},
   "source": [
    "## Nama : Axl Adilla <br> NIM  : 20/466397/PPA/05963"
   ]
  },
  {
   "cell_type": "markdown",
   "id": "studied-pavilion",
   "metadata": {},
   "source": [
    "## Import Library"
   ]
  },
  {
   "cell_type": "code",
   "execution_count": 1,
   "id": "elect-gates",
   "metadata": {},
   "outputs": [
    {
     "name": "stdout",
     "output_type": "stream",
     "text": [
      "showing info https://raw.githubusercontent.com/nltk/nltk_data/gh-pages/index.xml\n"
     ]
    },
    {
     "data": {
      "text/plain": [
       "True"
      ]
     },
     "execution_count": 1,
     "metadata": {},
     "output_type": "execute_result"
    }
   ],
   "source": [
    "import pandas as pd\n",
    "from bs4 import BeautifulSoup  as bs\n",
    "import re\n",
    "import nltk\n",
    "nltk.download()"
   ]
  },
  {
   "cell_type": "markdown",
   "id": "vietnamese-incident",
   "metadata": {},
   "source": [
    "## import Dataset Email Spam"
   ]
  },
  {
   "cell_type": "code",
   "execution_count": 2,
   "id": "engaging-theme",
   "metadata": {},
   "outputs": [],
   "source": [
    "dataset = pd.read_json('./Dataset/email-text-data.json')"
   ]
  },
  {
   "cell_type": "code",
   "execution_count": 3,
   "id": "purple-rendering",
   "metadata": {},
   "outputs": [
    {
     "data": {
      "text/html": [
       "<div>\n",
       "<style scoped>\n",
       "    .dataframe tbody tr th:only-of-type {\n",
       "        vertical-align: middle;\n",
       "    }\n",
       "\n",
       "    .dataframe tbody tr th {\n",
       "        vertical-align: top;\n",
       "    }\n",
       "\n",
       "    .dataframe thead th {\n",
       "        text-align: right;\n",
       "    }\n",
       "</style>\n",
       "<table border=\"1\" class=\"dataframe\">\n",
       "  <thead>\n",
       "    <tr style=\"text-align: right;\">\n",
       "      <th></th>\n",
       "      <th>CATEGORY</th>\n",
       "      <th>MESSAGE</th>\n",
       "      <th>FILE_NAME</th>\n",
       "    </tr>\n",
       "  </thead>\n",
       "  <tbody>\n",
       "    <tr>\n",
       "      <th>0</th>\n",
       "      <td>1</td>\n",
       "      <td>Dear Homeowner,\\n\\n \\n\\nInterest Rates are at ...</td>\n",
       "      <td>00249.5f45607c1bffe89f60ba1ec9f878039a</td>\n",
       "    </tr>\n",
       "    <tr>\n",
       "      <th>1</th>\n",
       "      <td>1</td>\n",
       "      <td>ATTENTION: This is a MUST for ALL Computer Use...</td>\n",
       "      <td>00373.ebe8670ac56b04125c25100a36ab0510</td>\n",
       "    </tr>\n",
       "    <tr>\n",
       "      <th>2</th>\n",
       "      <td>1</td>\n",
       "      <td>This is a multi-part message in MIME format.\\n...</td>\n",
       "      <td>00214.1367039e50dc6b7adb0f2aa8aba83216</td>\n",
       "    </tr>\n",
       "    <tr>\n",
       "      <th>3</th>\n",
       "      <td>1</td>\n",
       "      <td>IMPORTANT INFORMATION:\\n\\n\\n\\nThe new domain n...</td>\n",
       "      <td>00210.050ffd105bd4e006771ee63cabc59978</td>\n",
       "    </tr>\n",
       "    <tr>\n",
       "      <th>4</th>\n",
       "      <td>1</td>\n",
       "      <td>This is the bottom line.  If you can GIVE AWAY...</td>\n",
       "      <td>00033.9babb58d9298daa2963d4f514193d7d6</td>\n",
       "    </tr>\n",
       "    <tr>\n",
       "      <th>...</th>\n",
       "      <td>...</td>\n",
       "      <td>...</td>\n",
       "      <td>...</td>\n",
       "    </tr>\n",
       "    <tr>\n",
       "      <th>5771</th>\n",
       "      <td>0</td>\n",
       "      <td>Sorted.  I've got someone...\\n\\n\\n\\nThanks,\\n\\...</td>\n",
       "      <td>00052.554e05bfafbdf397fc103a08c3a06652</td>\n",
       "    </tr>\n",
       "    <tr>\n",
       "      <th>5772</th>\n",
       "      <td>0</td>\n",
       "      <td>Ad Aware sometimes helps too.\\n\\n-R\\n\\n\\n\\nOn ...</td>\n",
       "      <td>00501.172ccb009ff118f79f709c80e04d57c3</td>\n",
       "    </tr>\n",
       "    <tr>\n",
       "      <th>5773</th>\n",
       "      <td>0</td>\n",
       "      <td>| Date: Fri, 19 Jul 2002 22:00:02 +0100\\n\\n ...</td>\n",
       "      <td>00110.445d52a2f1807faf97f15e370b1b73b8</td>\n",
       "    </tr>\n",
       "    <tr>\n",
       "      <th>5774</th>\n",
       "      <td>0</td>\n",
       "      <td>So sprach Malte S. Stretz am 2002-07-21 um 01:...</td>\n",
       "      <td>01289.10818e3dc6bacd14b05bd6521f8aaa27</td>\n",
       "    </tr>\n",
       "    <tr>\n",
       "      <th>5775</th>\n",
       "      <td>0</td>\n",
       "      <td>Hi,\\n\\n\\n\\nMatthew French:\\n\\n&gt; Declan Houliha...</td>\n",
       "      <td>00272.d2daf940e50638774ca629aa11ab95a2</td>\n",
       "    </tr>\n",
       "  </tbody>\n",
       "</table>\n",
       "<p>5776 rows × 3 columns</p>\n",
       "</div>"
      ],
      "text/plain": [
       "      CATEGORY                                            MESSAGE  \\\n",
       "0            1  Dear Homeowner,\\n\\n \\n\\nInterest Rates are at ...   \n",
       "1            1  ATTENTION: This is a MUST for ALL Computer Use...   \n",
       "2            1  This is a multi-part message in MIME format.\\n...   \n",
       "3            1  IMPORTANT INFORMATION:\\n\\n\\n\\nThe new domain n...   \n",
       "4            1  This is the bottom line.  If you can GIVE AWAY...   \n",
       "...        ...                                                ...   \n",
       "5771         0  Sorted.  I've got someone...\\n\\n\\n\\nThanks,\\n\\...   \n",
       "5772         0  Ad Aware sometimes helps too.\\n\\n-R\\n\\n\\n\\nOn ...   \n",
       "5773         0    | Date: Fri, 19 Jul 2002 22:00:02 +0100\\n\\n ...   \n",
       "5774         0  So sprach Malte S. Stretz am 2002-07-21 um 01:...   \n",
       "5775         0  Hi,\\n\\n\\n\\nMatthew French:\\n\\n> Declan Houliha...   \n",
       "\n",
       "                                   FILE_NAME  \n",
       "0     00249.5f45607c1bffe89f60ba1ec9f878039a  \n",
       "1     00373.ebe8670ac56b04125c25100a36ab0510  \n",
       "2     00214.1367039e50dc6b7adb0f2aa8aba83216  \n",
       "3     00210.050ffd105bd4e006771ee63cabc59978  \n",
       "4     00033.9babb58d9298daa2963d4f514193d7d6  \n",
       "...                                      ...  \n",
       "5771  00052.554e05bfafbdf397fc103a08c3a06652  \n",
       "5772  00501.172ccb009ff118f79f709c80e04d57c3  \n",
       "5773  00110.445d52a2f1807faf97f15e370b1b73b8  \n",
       "5774  01289.10818e3dc6bacd14b05bd6521f8aaa27  \n",
       "5775  00272.d2daf940e50638774ca629aa11ab95a2  \n",
       "\n",
       "[5776 rows x 3 columns]"
      ]
     },
     "execution_count": 3,
     "metadata": {},
     "output_type": "execute_result"
    }
   ],
   "source": [
    "dataset.head(-20)"
   ]
  },
  {
   "cell_type": "markdown",
   "id": "atmospheric-stone",
   "metadata": {},
   "source": [
    "## Melakukan Preprocessing Message"
   ]
  },
  {
   "cell_type": "markdown",
   "id": "valuable-kelly",
   "metadata": {},
   "source": [
    "###  1. Ubah ke Lowercase"
   ]
  },
  {
   "cell_type": "code",
   "execution_count": 4,
   "id": "heated-thousand",
   "metadata": {
    "scrolled": true
   },
   "outputs": [
    {
     "data": {
      "text/html": [
       "<div>\n",
       "<style scoped>\n",
       "    .dataframe tbody tr th:only-of-type {\n",
       "        vertical-align: middle;\n",
       "    }\n",
       "\n",
       "    .dataframe tbody tr th {\n",
       "        vertical-align: top;\n",
       "    }\n",
       "\n",
       "    .dataframe thead th {\n",
       "        text-align: right;\n",
       "    }\n",
       "</style>\n",
       "<table border=\"1\" class=\"dataframe\">\n",
       "  <thead>\n",
       "    <tr style=\"text-align: right;\">\n",
       "      <th></th>\n",
       "      <th>CATEGORY</th>\n",
       "      <th>MESSAGE</th>\n",
       "      <th>FILE_NAME</th>\n",
       "    </tr>\n",
       "  </thead>\n",
       "  <tbody>\n",
       "    <tr>\n",
       "      <th>0</th>\n",
       "      <td>1</td>\n",
       "      <td>dear homeowner,\\n\\n \\n\\ninterest rates are at ...</td>\n",
       "      <td>00249.5f45607c1bffe89f60ba1ec9f878039a</td>\n",
       "    </tr>\n",
       "    <tr>\n",
       "      <th>1</th>\n",
       "      <td>1</td>\n",
       "      <td>attention: this is a must for all computer use...</td>\n",
       "      <td>00373.ebe8670ac56b04125c25100a36ab0510</td>\n",
       "    </tr>\n",
       "    <tr>\n",
       "      <th>2</th>\n",
       "      <td>1</td>\n",
       "      <td>this is a multi-part message in mime format.\\n...</td>\n",
       "      <td>00214.1367039e50dc6b7adb0f2aa8aba83216</td>\n",
       "    </tr>\n",
       "    <tr>\n",
       "      <th>3</th>\n",
       "      <td>1</td>\n",
       "      <td>important information:\\n\\n\\n\\nthe new domain n...</td>\n",
       "      <td>00210.050ffd105bd4e006771ee63cabc59978</td>\n",
       "    </tr>\n",
       "    <tr>\n",
       "      <th>4</th>\n",
       "      <td>1</td>\n",
       "      <td>this is the bottom line.  if you can give away...</td>\n",
       "      <td>00033.9babb58d9298daa2963d4f514193d7d6</td>\n",
       "    </tr>\n",
       "    <tr>\n",
       "      <th>...</th>\n",
       "      <td>...</td>\n",
       "      <td>...</td>\n",
       "      <td>...</td>\n",
       "    </tr>\n",
       "    <tr>\n",
       "      <th>5791</th>\n",
       "      <td>0</td>\n",
       "      <td>i'm one of the 30,000 but it's not working ver...</td>\n",
       "      <td>00609.dd49926ce94a1ea328cce9b62825bc97</td>\n",
       "    </tr>\n",
       "    <tr>\n",
       "      <th>5792</th>\n",
       "      <td>0</td>\n",
       "      <td>damien morton quoted:\\n\\n&gt;w3c approves html 4 ...</td>\n",
       "      <td>00957.e0b56b117f3ec5f85e432a9d2a47801f</td>\n",
       "    </tr>\n",
       "    <tr>\n",
       "      <th>5793</th>\n",
       "      <td>0</td>\n",
       "      <td>on mon, 2002-07-22 at 06:50, che wrote:\\n\\n\\n\\...</td>\n",
       "      <td>01127.841233b48eceb74a825417d8d918abf8</td>\n",
       "    </tr>\n",
       "    <tr>\n",
       "      <th>5794</th>\n",
       "      <td>0</td>\n",
       "      <td>once upon a time, manfred wrote :\\n\\n\\n\\n&gt; i w...</td>\n",
       "      <td>01178.5c977dff972cd6eef64d4173b90307f0</td>\n",
       "    </tr>\n",
       "    <tr>\n",
       "      <th>5795</th>\n",
       "      <td>0</td>\n",
       "      <td>if you run pick, and then use the \"new ftoc\" b...</td>\n",
       "      <td>00747.352d424267d36975a7b40b85ffd0885e</td>\n",
       "    </tr>\n",
       "  </tbody>\n",
       "</table>\n",
       "<p>5796 rows × 3 columns</p>\n",
       "</div>"
      ],
      "text/plain": [
       "      CATEGORY                                            MESSAGE  \\\n",
       "0            1  dear homeowner,\\n\\n \\n\\ninterest rates are at ...   \n",
       "1            1  attention: this is a must for all computer use...   \n",
       "2            1  this is a multi-part message in mime format.\\n...   \n",
       "3            1  important information:\\n\\n\\n\\nthe new domain n...   \n",
       "4            1  this is the bottom line.  if you can give away...   \n",
       "...        ...                                                ...   \n",
       "5791         0  i'm one of the 30,000 but it's not working ver...   \n",
       "5792         0  damien morton quoted:\\n\\n>w3c approves html 4 ...   \n",
       "5793         0  on mon, 2002-07-22 at 06:50, che wrote:\\n\\n\\n\\...   \n",
       "5794         0  once upon a time, manfred wrote :\\n\\n\\n\\n> i w...   \n",
       "5795         0  if you run pick, and then use the \"new ftoc\" b...   \n",
       "\n",
       "                                   FILE_NAME  \n",
       "0     00249.5f45607c1bffe89f60ba1ec9f878039a  \n",
       "1     00373.ebe8670ac56b04125c25100a36ab0510  \n",
       "2     00214.1367039e50dc6b7adb0f2aa8aba83216  \n",
       "3     00210.050ffd105bd4e006771ee63cabc59978  \n",
       "4     00033.9babb58d9298daa2963d4f514193d7d6  \n",
       "...                                      ...  \n",
       "5791  00609.dd49926ce94a1ea328cce9b62825bc97  \n",
       "5792  00957.e0b56b117f3ec5f85e432a9d2a47801f  \n",
       "5793  01127.841233b48eceb74a825417d8d918abf8  \n",
       "5794  01178.5c977dff972cd6eef64d4173b90307f0  \n",
       "5795  00747.352d424267d36975a7b40b85ffd0885e  \n",
       "\n",
       "[5796 rows x 3 columns]"
      ]
     },
     "execution_count": 4,
     "metadata": {},
     "output_type": "execute_result"
    }
   ],
   "source": [
    "dataset.MESSAGE = [msg.lower() for msg in dataset.MESSAGE]\n",
    "dataset"
   ]
  },
  {
   "cell_type": "markdown",
   "id": "brave-limitation",
   "metadata": {},
   "source": [
    "### 2. Menghilangkan Tag HTML"
   ]
  },
  {
   "cell_type": "code",
   "execution_count": 5,
   "id": "dimensional-quest",
   "metadata": {},
   "outputs": [
    {
     "name": "stderr",
     "output_type": "stream",
     "text": [
      "/home/axl/anaconda3/envs/absa-en/lib/python3.8/site-packages/bs4/__init__.py:417: MarkupResemblesLocatorWarning: \"http://www.post-gazette.com/columnists/20020905brian5\n",
      "\" looks like a URL. Beautiful Soup is not an HTTP client. You should probably use an HTTP client like requests to get the document behind the URL, and feed that document to Beautiful Soup.\n",
      "  warnings.warn(\n"
     ]
    },
    {
     "data": {
      "text/html": [
       "<div>\n",
       "<style scoped>\n",
       "    .dataframe tbody tr th:only-of-type {\n",
       "        vertical-align: middle;\n",
       "    }\n",
       "\n",
       "    .dataframe tbody tr th {\n",
       "        vertical-align: top;\n",
       "    }\n",
       "\n",
       "    .dataframe thead th {\n",
       "        text-align: right;\n",
       "    }\n",
       "</style>\n",
       "<table border=\"1\" class=\"dataframe\">\n",
       "  <thead>\n",
       "    <tr style=\"text-align: right;\">\n",
       "      <th></th>\n",
       "      <th>CATEGORY</th>\n",
       "      <th>MESSAGE</th>\n",
       "      <th>FILE_NAME</th>\n",
       "    </tr>\n",
       "  </thead>\n",
       "  <tbody>\n",
       "    <tr>\n",
       "      <th>0</th>\n",
       "      <td>1</td>\n",
       "      <td>dear homeowner,\\n\\n \\n\\ninterest rates are at ...</td>\n",
       "      <td>00249.5f45607c1bffe89f60ba1ec9f878039a</td>\n",
       "    </tr>\n",
       "    <tr>\n",
       "      <th>1</th>\n",
       "      <td>1</td>\n",
       "      <td>attention: this is a must for all computer use...</td>\n",
       "      <td>00373.ebe8670ac56b04125c25100a36ab0510</td>\n",
       "    </tr>\n",
       "    <tr>\n",
       "      <th>2</th>\n",
       "      <td>1</td>\n",
       "      <td>this is a multi-part message in mime format.\\n...</td>\n",
       "      <td>00214.1367039e50dc6b7adb0f2aa8aba83216</td>\n",
       "    </tr>\n",
       "    <tr>\n",
       "      <th>3</th>\n",
       "      <td>1</td>\n",
       "      <td>important information:\\n\\n\\n\\nthe new domain n...</td>\n",
       "      <td>00210.050ffd105bd4e006771ee63cabc59978</td>\n",
       "    </tr>\n",
       "    <tr>\n",
       "      <th>4</th>\n",
       "      <td>1</td>\n",
       "      <td>this is the bottom line.  if you can give away...</td>\n",
       "      <td>00033.9babb58d9298daa2963d4f514193d7d6</td>\n",
       "    </tr>\n",
       "    <tr>\n",
       "      <th>...</th>\n",
       "      <td>...</td>\n",
       "      <td>...</td>\n",
       "      <td>...</td>\n",
       "    </tr>\n",
       "    <tr>\n",
       "      <th>5791</th>\n",
       "      <td>0</td>\n",
       "      <td>i'm one of the 30,000 but it's not working ver...</td>\n",
       "      <td>00609.dd49926ce94a1ea328cce9b62825bc97</td>\n",
       "    </tr>\n",
       "    <tr>\n",
       "      <th>5792</th>\n",
       "      <td>0</td>\n",
       "      <td>damien morton quoted:\\n\\n&gt;w3c approves html 4 ...</td>\n",
       "      <td>00957.e0b56b117f3ec5f85e432a9d2a47801f</td>\n",
       "    </tr>\n",
       "    <tr>\n",
       "      <th>5793</th>\n",
       "      <td>0</td>\n",
       "      <td>on mon, 2002-07-22 at 06:50, che wrote:\\n\\n\\n\\...</td>\n",
       "      <td>01127.841233b48eceb74a825417d8d918abf8</td>\n",
       "    </tr>\n",
       "    <tr>\n",
       "      <th>5794</th>\n",
       "      <td>0</td>\n",
       "      <td>once upon a time, manfred wrote :\\n\\n\\n\\n&gt; i w...</td>\n",
       "      <td>01178.5c977dff972cd6eef64d4173b90307f0</td>\n",
       "    </tr>\n",
       "    <tr>\n",
       "      <th>5795</th>\n",
       "      <td>0</td>\n",
       "      <td>if you run pick, and then use the \"new ftoc\" b...</td>\n",
       "      <td>00747.352d424267d36975a7b40b85ffd0885e</td>\n",
       "    </tr>\n",
       "  </tbody>\n",
       "</table>\n",
       "<p>5796 rows × 3 columns</p>\n",
       "</div>"
      ],
      "text/plain": [
       "      CATEGORY                                            MESSAGE  \\\n",
       "0            1  dear homeowner,\\n\\n \\n\\ninterest rates are at ...   \n",
       "1            1  attention: this is a must for all computer use...   \n",
       "2            1  this is a multi-part message in mime format.\\n...   \n",
       "3            1  important information:\\n\\n\\n\\nthe new domain n...   \n",
       "4            1  this is the bottom line.  if you can give away...   \n",
       "...        ...                                                ...   \n",
       "5791         0  i'm one of the 30,000 but it's not working ver...   \n",
       "5792         0  damien morton quoted:\\n\\n>w3c approves html 4 ...   \n",
       "5793         0  on mon, 2002-07-22 at 06:50, che wrote:\\n\\n\\n\\...   \n",
       "5794         0  once upon a time, manfred wrote :\\n\\n\\n\\n> i w...   \n",
       "5795         0  if you run pick, and then use the \"new ftoc\" b...   \n",
       "\n",
       "                                   FILE_NAME  \n",
       "0     00249.5f45607c1bffe89f60ba1ec9f878039a  \n",
       "1     00373.ebe8670ac56b04125c25100a36ab0510  \n",
       "2     00214.1367039e50dc6b7adb0f2aa8aba83216  \n",
       "3     00210.050ffd105bd4e006771ee63cabc59978  \n",
       "4     00033.9babb58d9298daa2963d4f514193d7d6  \n",
       "...                                      ...  \n",
       "5791  00609.dd49926ce94a1ea328cce9b62825bc97  \n",
       "5792  00957.e0b56b117f3ec5f85e432a9d2a47801f  \n",
       "5793  01127.841233b48eceb74a825417d8d918abf8  \n",
       "5794  01178.5c977dff972cd6eef64d4173b90307f0  \n",
       "5795  00747.352d424267d36975a7b40b85ffd0885e  \n",
       "\n",
       "[5796 rows x 3 columns]"
      ]
     },
     "execution_count": 5,
     "metadata": {},
     "output_type": "execute_result"
    }
   ],
   "source": [
    "dataset.MESSAGE = [bs(msg).get_text() for msg in dataset.MESSAGE]\n",
    "dataset"
   ]
  },
  {
   "cell_type": "markdown",
   "id": "outer-liverpool",
   "metadata": {},
   "source": [
    "### 3. Standarisasi URL"
   ]
  },
  {
   "cell_type": "code",
   "execution_count": 6,
   "id": "expressed-hearing",
   "metadata": {
    "scrolled": false
   },
   "outputs": [
    {
     "data": {
      "text/html": [
       "<div>\n",
       "<style scoped>\n",
       "    .dataframe tbody tr th:only-of-type {\n",
       "        vertical-align: middle;\n",
       "    }\n",
       "\n",
       "    .dataframe tbody tr th {\n",
       "        vertical-align: top;\n",
       "    }\n",
       "\n",
       "    .dataframe thead th {\n",
       "        text-align: right;\n",
       "    }\n",
       "</style>\n",
       "<table border=\"1\" class=\"dataframe\">\n",
       "  <thead>\n",
       "    <tr style=\"text-align: right;\">\n",
       "      <th></th>\n",
       "      <th>CATEGORY</th>\n",
       "      <th>MESSAGE</th>\n",
       "      <th>FILE_NAME</th>\n",
       "    </tr>\n",
       "  </thead>\n",
       "  <tbody>\n",
       "    <tr>\n",
       "      <th>0</th>\n",
       "      <td>1</td>\n",
       "      <td>dear homeowner,\\n\\n \\n\\ninterest rates are at ...</td>\n",
       "      <td>00249.5f45607c1bffe89f60ba1ec9f878039a</td>\n",
       "    </tr>\n",
       "    <tr>\n",
       "      <th>1</th>\n",
       "      <td>1</td>\n",
       "      <td>attention: this is a must for all computer use...</td>\n",
       "      <td>00373.ebe8670ac56b04125c25100a36ab0510</td>\n",
       "    </tr>\n",
       "    <tr>\n",
       "      <th>2</th>\n",
       "      <td>1</td>\n",
       "      <td>this is a multi-part message in mime format.\\n...</td>\n",
       "      <td>00214.1367039e50dc6b7adb0f2aa8aba83216</td>\n",
       "    </tr>\n",
       "    <tr>\n",
       "      <th>3</th>\n",
       "      <td>1</td>\n",
       "      <td>important information:\\n\\n\\n\\nthe new domain n...</td>\n",
       "      <td>00210.050ffd105bd4e006771ee63cabc59978</td>\n",
       "    </tr>\n",
       "    <tr>\n",
       "      <th>4</th>\n",
       "      <td>1</td>\n",
       "      <td>this is the bottom line.  if you can give away...</td>\n",
       "      <td>00033.9babb58d9298daa2963d4f514193d7d6</td>\n",
       "    </tr>\n",
       "    <tr>\n",
       "      <th>...</th>\n",
       "      <td>...</td>\n",
       "      <td>...</td>\n",
       "      <td>...</td>\n",
       "    </tr>\n",
       "    <tr>\n",
       "      <th>5791</th>\n",
       "      <td>0</td>\n",
       "      <td>i'm one of the 30,000 but it's not working ver...</td>\n",
       "      <td>00609.dd49926ce94a1ea328cce9b62825bc97</td>\n",
       "    </tr>\n",
       "    <tr>\n",
       "      <th>5792</th>\n",
       "      <td>0</td>\n",
       "      <td>damien morton quoted:\\n\\n&gt;w3c approves html 4 ...</td>\n",
       "      <td>00957.e0b56b117f3ec5f85e432a9d2a47801f</td>\n",
       "    </tr>\n",
       "    <tr>\n",
       "      <th>5793</th>\n",
       "      <td>0</td>\n",
       "      <td>on mon, 2002-07-22 at 06:50, che wrote:\\n\\n\\n\\...</td>\n",
       "      <td>01127.841233b48eceb74a825417d8d918abf8</td>\n",
       "    </tr>\n",
       "    <tr>\n",
       "      <th>5794</th>\n",
       "      <td>0</td>\n",
       "      <td>once upon a time, manfred wrote :\\n\\n\\n\\n&gt; i w...</td>\n",
       "      <td>01178.5c977dff972cd6eef64d4173b90307f0</td>\n",
       "    </tr>\n",
       "    <tr>\n",
       "      <th>5795</th>\n",
       "      <td>0</td>\n",
       "      <td>if you run pick, and then use the \"new ftoc\" b...</td>\n",
       "      <td>00747.352d424267d36975a7b40b85ffd0885e</td>\n",
       "    </tr>\n",
       "  </tbody>\n",
       "</table>\n",
       "<p>5796 rows × 3 columns</p>\n",
       "</div>"
      ],
      "text/plain": [
       "      CATEGORY                                            MESSAGE  \\\n",
       "0            1  dear homeowner,\\n\\n \\n\\ninterest rates are at ...   \n",
       "1            1  attention: this is a must for all computer use...   \n",
       "2            1  this is a multi-part message in mime format.\\n...   \n",
       "3            1  important information:\\n\\n\\n\\nthe new domain n...   \n",
       "4            1  this is the bottom line.  if you can give away...   \n",
       "...        ...                                                ...   \n",
       "5791         0  i'm one of the 30,000 but it's not working ver...   \n",
       "5792         0  damien morton quoted:\\n\\n>w3c approves html 4 ...   \n",
       "5793         0  on mon, 2002-07-22 at 06:50, che wrote:\\n\\n\\n\\...   \n",
       "5794         0  once upon a time, manfred wrote :\\n\\n\\n\\n> i w...   \n",
       "5795         0  if you run pick, and then use the \"new ftoc\" b...   \n",
       "\n",
       "                                   FILE_NAME  \n",
       "0     00249.5f45607c1bffe89f60ba1ec9f878039a  \n",
       "1     00373.ebe8670ac56b04125c25100a36ab0510  \n",
       "2     00214.1367039e50dc6b7adb0f2aa8aba83216  \n",
       "3     00210.050ffd105bd4e006771ee63cabc59978  \n",
       "4     00033.9babb58d9298daa2963d4f514193d7d6  \n",
       "...                                      ...  \n",
       "5791  00609.dd49926ce94a1ea328cce9b62825bc97  \n",
       "5792  00957.e0b56b117f3ec5f85e432a9d2a47801f  \n",
       "5793  01127.841233b48eceb74a825417d8d918abf8  \n",
       "5794  01178.5c977dff972cd6eef64d4173b90307f0  \n",
       "5795  00747.352d424267d36975a7b40b85ffd0885e  \n",
       "\n",
       "[5796 rows x 3 columns]"
      ]
     },
     "execution_count": 6,
     "metadata": {},
     "output_type": "execute_result"
    }
   ],
   "source": [
    "dataset.MESSAGE = [re.sub(\"(http|https)://\\S+\", \" url \",msg ) for msg in dataset.MESSAGE]\n",
    "dataset"
   ]
  },
  {
   "cell_type": "markdown",
   "id": "protective-connecticut",
   "metadata": {},
   "source": [
    "### 4.Standarisasi Email Address"
   ]
  },
  {
   "cell_type": "code",
   "execution_count": 7,
   "id": "blocked-childhood",
   "metadata": {
    "scrolled": true
   },
   "outputs": [
    {
     "data": {
      "text/html": [
       "<div>\n",
       "<style scoped>\n",
       "    .dataframe tbody tr th:only-of-type {\n",
       "        vertical-align: middle;\n",
       "    }\n",
       "\n",
       "    .dataframe tbody tr th {\n",
       "        vertical-align: top;\n",
       "    }\n",
       "\n",
       "    .dataframe thead th {\n",
       "        text-align: right;\n",
       "    }\n",
       "</style>\n",
       "<table border=\"1\" class=\"dataframe\">\n",
       "  <thead>\n",
       "    <tr style=\"text-align: right;\">\n",
       "      <th></th>\n",
       "      <th>CATEGORY</th>\n",
       "      <th>MESSAGE</th>\n",
       "      <th>FILE_NAME</th>\n",
       "    </tr>\n",
       "  </thead>\n",
       "  <tbody>\n",
       "    <tr>\n",
       "      <th>0</th>\n",
       "      <td>1</td>\n",
       "      <td>dear homeowner,\\n\\n \\n\\ninterest rates are at ...</td>\n",
       "      <td>00249.5f45607c1bffe89f60ba1ec9f878039a</td>\n",
       "    </tr>\n",
       "    <tr>\n",
       "      <th>1</th>\n",
       "      <td>1</td>\n",
       "      <td>attention: this is a must for all computer use...</td>\n",
       "      <td>00373.ebe8670ac56b04125c25100a36ab0510</td>\n",
       "    </tr>\n",
       "    <tr>\n",
       "      <th>2</th>\n",
       "      <td>1</td>\n",
       "      <td>this is a multi-part message in mime format.\\n...</td>\n",
       "      <td>00214.1367039e50dc6b7adb0f2aa8aba83216</td>\n",
       "    </tr>\n",
       "    <tr>\n",
       "      <th>3</th>\n",
       "      <td>1</td>\n",
       "      <td>important information:\\n\\n\\n\\nthe new domain n...</td>\n",
       "      <td>00210.050ffd105bd4e006771ee63cabc59978</td>\n",
       "    </tr>\n",
       "    <tr>\n",
       "      <th>4</th>\n",
       "      <td>1</td>\n",
       "      <td>this is the bottom line.  if you can give away...</td>\n",
       "      <td>00033.9babb58d9298daa2963d4f514193d7d6</td>\n",
       "    </tr>\n",
       "    <tr>\n",
       "      <th>...</th>\n",
       "      <td>...</td>\n",
       "      <td>...</td>\n",
       "      <td>...</td>\n",
       "    </tr>\n",
       "    <tr>\n",
       "      <th>5791</th>\n",
       "      <td>0</td>\n",
       "      <td>i'm one of the 30,000 but it's not working ver...</td>\n",
       "      <td>00609.dd49926ce94a1ea328cce9b62825bc97</td>\n",
       "    </tr>\n",
       "    <tr>\n",
       "      <th>5792</th>\n",
       "      <td>0</td>\n",
       "      <td>damien morton quoted:\\n\\n&gt;w3c approves html 4 ...</td>\n",
       "      <td>00957.e0b56b117f3ec5f85e432a9d2a47801f</td>\n",
       "    </tr>\n",
       "    <tr>\n",
       "      <th>5793</th>\n",
       "      <td>0</td>\n",
       "      <td>on mon, 2002-07-22 at 06:50, che wrote:\\n\\n\\n\\...</td>\n",
       "      <td>01127.841233b48eceb74a825417d8d918abf8</td>\n",
       "    </tr>\n",
       "    <tr>\n",
       "      <th>5794</th>\n",
       "      <td>0</td>\n",
       "      <td>once upon a time, manfred wrote :\\n\\n\\n\\n&gt; i w...</td>\n",
       "      <td>01178.5c977dff972cd6eef64d4173b90307f0</td>\n",
       "    </tr>\n",
       "    <tr>\n",
       "      <th>5795</th>\n",
       "      <td>0</td>\n",
       "      <td>if you run pick, and then use the \"new ftoc\" b...</td>\n",
       "      <td>00747.352d424267d36975a7b40b85ffd0885e</td>\n",
       "    </tr>\n",
       "  </tbody>\n",
       "</table>\n",
       "<p>5796 rows × 3 columns</p>\n",
       "</div>"
      ],
      "text/plain": [
       "      CATEGORY                                            MESSAGE  \\\n",
       "0            1  dear homeowner,\\n\\n \\n\\ninterest rates are at ...   \n",
       "1            1  attention: this is a must for all computer use...   \n",
       "2            1  this is a multi-part message in mime format.\\n...   \n",
       "3            1  important information:\\n\\n\\n\\nthe new domain n...   \n",
       "4            1  this is the bottom line.  if you can give away...   \n",
       "...        ...                                                ...   \n",
       "5791         0  i'm one of the 30,000 but it's not working ver...   \n",
       "5792         0  damien morton quoted:\\n\\n>w3c approves html 4 ...   \n",
       "5793         0  on mon, 2002-07-22 at 06:50, che wrote:\\n\\n\\n\\...   \n",
       "5794         0  once upon a time, manfred wrote :\\n\\n\\n\\n> i w...   \n",
       "5795         0  if you run pick, and then use the \"new ftoc\" b...   \n",
       "\n",
       "                                   FILE_NAME  \n",
       "0     00249.5f45607c1bffe89f60ba1ec9f878039a  \n",
       "1     00373.ebe8670ac56b04125c25100a36ab0510  \n",
       "2     00214.1367039e50dc6b7adb0f2aa8aba83216  \n",
       "3     00210.050ffd105bd4e006771ee63cabc59978  \n",
       "4     00033.9babb58d9298daa2963d4f514193d7d6  \n",
       "...                                      ...  \n",
       "5791  00609.dd49926ce94a1ea328cce9b62825bc97  \n",
       "5792  00957.e0b56b117f3ec5f85e432a9d2a47801f  \n",
       "5793  01127.841233b48eceb74a825417d8d918abf8  \n",
       "5794  01178.5c977dff972cd6eef64d4173b90307f0  \n",
       "5795  00747.352d424267d36975a7b40b85ffd0885e  \n",
       "\n",
       "[5796 rows x 3 columns]"
      ]
     },
     "execution_count": 7,
     "metadata": {},
     "output_type": "execute_result"
    }
   ],
   "source": [
    "dataset.MESSAGE = [re.sub(\".*@\\S+\", \" email \",msg ) for msg in dataset.MESSAGE]\n",
    "dataset"
   ]
  },
  {
   "cell_type": "markdown",
   "id": "embedded-closing",
   "metadata": {},
   "source": [
    "### 5. Menghilangkan karakter kontrol"
   ]
  },
  {
   "cell_type": "code",
   "execution_count": 8,
   "id": "continuing-sheffield",
   "metadata": {
    "scrolled": true
   },
   "outputs": [
    {
     "data": {
      "text/html": [
       "<div>\n",
       "<style scoped>\n",
       "    .dataframe tbody tr th:only-of-type {\n",
       "        vertical-align: middle;\n",
       "    }\n",
       "\n",
       "    .dataframe tbody tr th {\n",
       "        vertical-align: top;\n",
       "    }\n",
       "\n",
       "    .dataframe thead th {\n",
       "        text-align: right;\n",
       "    }\n",
       "</style>\n",
       "<table border=\"1\" class=\"dataframe\">\n",
       "  <thead>\n",
       "    <tr style=\"text-align: right;\">\n",
       "      <th></th>\n",
       "      <th>CATEGORY</th>\n",
       "      <th>MESSAGE</th>\n",
       "      <th>FILE_NAME</th>\n",
       "    </tr>\n",
       "  </thead>\n",
       "  <tbody>\n",
       "    <tr>\n",
       "      <th>0</th>\n",
       "      <td>1</td>\n",
       "      <td>dear homeowner,     interest rates are at thei...</td>\n",
       "      <td>00249.5f45607c1bffe89f60ba1ec9f878039a</td>\n",
       "    </tr>\n",
       "    <tr>\n",
       "      <th>1</th>\n",
       "      <td>1</td>\n",
       "      <td>attention: this is a must for all computer use...</td>\n",
       "      <td>00373.ebe8670ac56b04125c25100a36ab0510</td>\n",
       "    </tr>\n",
       "    <tr>\n",
       "      <th>2</th>\n",
       "      <td>1</td>\n",
       "      <td>this is a multi-part message in mime format.  ...</td>\n",
       "      <td>00214.1367039e50dc6b7adb0f2aa8aba83216</td>\n",
       "    </tr>\n",
       "    <tr>\n",
       "      <th>3</th>\n",
       "      <td>1</td>\n",
       "      <td>important information:    the new domain names...</td>\n",
       "      <td>00210.050ffd105bd4e006771ee63cabc59978</td>\n",
       "    </tr>\n",
       "    <tr>\n",
       "      <th>4</th>\n",
       "      <td>1</td>\n",
       "      <td>this is the bottom line.  if you can give away...</td>\n",
       "      <td>00033.9babb58d9298daa2963d4f514193d7d6</td>\n",
       "    </tr>\n",
       "    <tr>\n",
       "      <th>...</th>\n",
       "      <td>...</td>\n",
       "      <td>...</td>\n",
       "      <td>...</td>\n",
       "    </tr>\n",
       "    <tr>\n",
       "      <th>5791</th>\n",
       "      <td>0</td>\n",
       "      <td>i'm one of the 30,000 but it's not working ver...</td>\n",
       "      <td>00609.dd49926ce94a1ea328cce9b62825bc97</td>\n",
       "    </tr>\n",
       "    <tr>\n",
       "      <th>5792</th>\n",
       "      <td>0</td>\n",
       "      <td>damien morton quoted:  &gt;w3c approves html 4 'e...</td>\n",
       "      <td>00957.e0b56b117f3ec5f85e432a9d2a47801f</td>\n",
       "    </tr>\n",
       "    <tr>\n",
       "      <th>5793</th>\n",
       "      <td>0</td>\n",
       "      <td>on mon, 2002-07-22 at 06:50, che wrote:    &gt; t...</td>\n",
       "      <td>01127.841233b48eceb74a825417d8d918abf8</td>\n",
       "    </tr>\n",
       "    <tr>\n",
       "      <th>5794</th>\n",
       "      <td>0</td>\n",
       "      <td>once upon a time, manfred wrote :    &gt; i would...</td>\n",
       "      <td>01178.5c977dff972cd6eef64d4173b90307f0</td>\n",
       "    </tr>\n",
       "    <tr>\n",
       "      <th>5795</th>\n",
       "      <td>0</td>\n",
       "      <td>if you run pick, and then use the \"new ftoc\" b...</td>\n",
       "      <td>00747.352d424267d36975a7b40b85ffd0885e</td>\n",
       "    </tr>\n",
       "  </tbody>\n",
       "</table>\n",
       "<p>5796 rows × 3 columns</p>\n",
       "</div>"
      ],
      "text/plain": [
       "      CATEGORY                                            MESSAGE  \\\n",
       "0            1  dear homeowner,     interest rates are at thei...   \n",
       "1            1  attention: this is a must for all computer use...   \n",
       "2            1  this is a multi-part message in mime format.  ...   \n",
       "3            1  important information:    the new domain names...   \n",
       "4            1  this is the bottom line.  if you can give away...   \n",
       "...        ...                                                ...   \n",
       "5791         0  i'm one of the 30,000 but it's not working ver...   \n",
       "5792         0  damien morton quoted:  >w3c approves html 4 'e...   \n",
       "5793         0  on mon, 2002-07-22 at 06:50, che wrote:    > t...   \n",
       "5794         0  once upon a time, manfred wrote :    > i would...   \n",
       "5795         0  if you run pick, and then use the \"new ftoc\" b...   \n",
       "\n",
       "                                   FILE_NAME  \n",
       "0     00249.5f45607c1bffe89f60ba1ec9f878039a  \n",
       "1     00373.ebe8670ac56b04125c25100a36ab0510  \n",
       "2     00214.1367039e50dc6b7adb0f2aa8aba83216  \n",
       "3     00210.050ffd105bd4e006771ee63cabc59978  \n",
       "4     00033.9babb58d9298daa2963d4f514193d7d6  \n",
       "...                                      ...  \n",
       "5791  00609.dd49926ce94a1ea328cce9b62825bc97  \n",
       "5792  00957.e0b56b117f3ec5f85e432a9d2a47801f  \n",
       "5793  01127.841233b48eceb74a825417d8d918abf8  \n",
       "5794  01178.5c977dff972cd6eef64d4173b90307f0  \n",
       "5795  00747.352d424267d36975a7b40b85ffd0885e  \n",
       "\n",
       "[5796 rows x 3 columns]"
      ]
     },
     "execution_count": 8,
     "metadata": {},
     "output_type": "execute_result"
    }
   ],
   "source": [
    "dataset.MESSAGE = [re.sub(\"\\n\", \" \",msg ) for msg in dataset.MESSAGE]\n",
    "dataset"
   ]
  },
  {
   "cell_type": "markdown",
   "id": "homeless-triangle",
   "metadata": {},
   "source": [
    "### 6. Menghilangkan nomor dan simbol"
   ]
  },
  {
   "cell_type": "code",
   "execution_count": 9,
   "id": "through-syndication",
   "metadata": {
    "scrolled": true
   },
   "outputs": [
    {
     "data": {
      "text/html": [
       "<div>\n",
       "<style scoped>\n",
       "    .dataframe tbody tr th:only-of-type {\n",
       "        vertical-align: middle;\n",
       "    }\n",
       "\n",
       "    .dataframe tbody tr th {\n",
       "        vertical-align: top;\n",
       "    }\n",
       "\n",
       "    .dataframe thead th {\n",
       "        text-align: right;\n",
       "    }\n",
       "</style>\n",
       "<table border=\"1\" class=\"dataframe\">\n",
       "  <thead>\n",
       "    <tr style=\"text-align: right;\">\n",
       "      <th></th>\n",
       "      <th>CATEGORY</th>\n",
       "      <th>MESSAGE</th>\n",
       "      <th>FILE_NAME</th>\n",
       "    </tr>\n",
       "  </thead>\n",
       "  <tbody>\n",
       "    <tr>\n",
       "      <th>0</th>\n",
       "      <td>1</td>\n",
       "      <td>dear homeowner      interest rates are at thei...</td>\n",
       "      <td>00249.5f45607c1bffe89f60ba1ec9f878039a</td>\n",
       "    </tr>\n",
       "    <tr>\n",
       "      <th>1</th>\n",
       "      <td>1</td>\n",
       "      <td>attention  this is a must for all computer use...</td>\n",
       "      <td>00373.ebe8670ac56b04125c25100a36ab0510</td>\n",
       "    </tr>\n",
       "    <tr>\n",
       "      <th>2</th>\n",
       "      <td>1</td>\n",
       "      <td>this is a multi part message in mime format   ...</td>\n",
       "      <td>00214.1367039e50dc6b7adb0f2aa8aba83216</td>\n",
       "    </tr>\n",
       "    <tr>\n",
       "      <th>3</th>\n",
       "      <td>1</td>\n",
       "      <td>important information     the new domain names...</td>\n",
       "      <td>00210.050ffd105bd4e006771ee63cabc59978</td>\n",
       "    </tr>\n",
       "    <tr>\n",
       "      <th>4</th>\n",
       "      <td>1</td>\n",
       "      <td>this is the bottom line   if you can give away...</td>\n",
       "      <td>00033.9babb58d9298daa2963d4f514193d7d6</td>\n",
       "    </tr>\n",
       "    <tr>\n",
       "      <th>...</th>\n",
       "      <td>...</td>\n",
       "      <td>...</td>\n",
       "      <td>...</td>\n",
       "    </tr>\n",
       "    <tr>\n",
       "      <th>5791</th>\n",
       "      <td>0</td>\n",
       "      <td>i m one of the   but it s not working very wel...</td>\n",
       "      <td>00609.dd49926ce94a1ea328cce9b62825bc97</td>\n",
       "    </tr>\n",
       "    <tr>\n",
       "      <th>5792</th>\n",
       "      <td>0</td>\n",
       "      <td>damien morton quoted    wc approves html   emo...</td>\n",
       "      <td>00957.e0b56b117f3ec5f85e432a9d2a47801f</td>\n",
       "    </tr>\n",
       "    <tr>\n",
       "      <th>5793</th>\n",
       "      <td>0</td>\n",
       "      <td>on mon     at    che wrote       thats the cor...</td>\n",
       "      <td>01127.841233b48eceb74a825417d8d918abf8</td>\n",
       "    </tr>\n",
       "    <tr>\n",
       "      <th>5794</th>\n",
       "      <td>0</td>\n",
       "      <td>once upon a time  manfred wrote        i would...</td>\n",
       "      <td>01178.5c977dff972cd6eef64d4173b90307f0</td>\n",
       "    </tr>\n",
       "    <tr>\n",
       "      <th>5795</th>\n",
       "      <td>0</td>\n",
       "      <td>if you run pick  and then use the  new ftoc  b...</td>\n",
       "      <td>00747.352d424267d36975a7b40b85ffd0885e</td>\n",
       "    </tr>\n",
       "  </tbody>\n",
       "</table>\n",
       "<p>5796 rows × 3 columns</p>\n",
       "</div>"
      ],
      "text/plain": [
       "      CATEGORY                                            MESSAGE  \\\n",
       "0            1  dear homeowner      interest rates are at thei...   \n",
       "1            1  attention  this is a must for all computer use...   \n",
       "2            1  this is a multi part message in mime format   ...   \n",
       "3            1  important information     the new domain names...   \n",
       "4            1  this is the bottom line   if you can give away...   \n",
       "...        ...                                                ...   \n",
       "5791         0  i m one of the   but it s not working very wel...   \n",
       "5792         0  damien morton quoted    wc approves html   emo...   \n",
       "5793         0  on mon     at    che wrote       thats the cor...   \n",
       "5794         0  once upon a time  manfred wrote        i would...   \n",
       "5795         0  if you run pick  and then use the  new ftoc  b...   \n",
       "\n",
       "                                   FILE_NAME  \n",
       "0     00249.5f45607c1bffe89f60ba1ec9f878039a  \n",
       "1     00373.ebe8670ac56b04125c25100a36ab0510  \n",
       "2     00214.1367039e50dc6b7adb0f2aa8aba83216  \n",
       "3     00210.050ffd105bd4e006771ee63cabc59978  \n",
       "4     00033.9babb58d9298daa2963d4f514193d7d6  \n",
       "...                                      ...  \n",
       "5791  00609.dd49926ce94a1ea328cce9b62825bc97  \n",
       "5792  00957.e0b56b117f3ec5f85e432a9d2a47801f  \n",
       "5793  01127.841233b48eceb74a825417d8d918abf8  \n",
       "5794  01178.5c977dff972cd6eef64d4173b90307f0  \n",
       "5795  00747.352d424267d36975a7b40b85ffd0885e  \n",
       "\n",
       "[5796 rows x 3 columns]"
      ]
     },
     "execution_count": 9,
     "metadata": {},
     "output_type": "execute_result"
    }
   ],
   "source": [
    "dataset.MESSAGE = [re.sub(\"\\d\", \"\",msg ) for msg in dataset.MESSAGE]\n",
    "dataset.MESSAGE = [re.sub(\"\\W\", \" \",msg ) for msg in dataset.MESSAGE]\n",
    "dataset"
   ]
  },
  {
   "cell_type": "markdown",
   "id": "fluid-material",
   "metadata": {},
   "source": [
    "### 7. Tokenisasi"
   ]
  },
  {
   "cell_type": "code",
   "execution_count": 10,
   "id": "affecting-ivory",
   "metadata": {},
   "outputs": [
    {
     "data": {
      "text/html": [
       "<div>\n",
       "<style scoped>\n",
       "    .dataframe tbody tr th:only-of-type {\n",
       "        vertical-align: middle;\n",
       "    }\n",
       "\n",
       "    .dataframe tbody tr th {\n",
       "        vertical-align: top;\n",
       "    }\n",
       "\n",
       "    .dataframe thead th {\n",
       "        text-align: right;\n",
       "    }\n",
       "</style>\n",
       "<table border=\"1\" class=\"dataframe\">\n",
       "  <thead>\n",
       "    <tr style=\"text-align: right;\">\n",
       "      <th></th>\n",
       "      <th>CATEGORY</th>\n",
       "      <th>MESSAGE</th>\n",
       "      <th>FILE_NAME</th>\n",
       "    </tr>\n",
       "  </thead>\n",
       "  <tbody>\n",
       "    <tr>\n",
       "      <th>0</th>\n",
       "      <td>1</td>\n",
       "      <td>[dear, homeowner, interest, rates, are, at, th...</td>\n",
       "      <td>00249.5f45607c1bffe89f60ba1ec9f878039a</td>\n",
       "    </tr>\n",
       "    <tr>\n",
       "      <th>1</th>\n",
       "      <td>1</td>\n",
       "      <td>[attention, this, is, a, must, for, all, compu...</td>\n",
       "      <td>00373.ebe8670ac56b04125c25100a36ab0510</td>\n",
       "    </tr>\n",
       "    <tr>\n",
       "      <th>2</th>\n",
       "      <td>1</td>\n",
       "      <td>[this, is, a, multi, part, message, in, mime, ...</td>\n",
       "      <td>00214.1367039e50dc6b7adb0f2aa8aba83216</td>\n",
       "    </tr>\n",
       "    <tr>\n",
       "      <th>3</th>\n",
       "      <td>1</td>\n",
       "      <td>[important, information, the, new, domain, nam...</td>\n",
       "      <td>00210.050ffd105bd4e006771ee63cabc59978</td>\n",
       "    </tr>\n",
       "    <tr>\n",
       "      <th>4</th>\n",
       "      <td>1</td>\n",
       "      <td>[this, is, the, bottom, line, if, you, can, gi...</td>\n",
       "      <td>00033.9babb58d9298daa2963d4f514193d7d6</td>\n",
       "    </tr>\n",
       "    <tr>\n",
       "      <th>...</th>\n",
       "      <td>...</td>\n",
       "      <td>...</td>\n",
       "      <td>...</td>\n",
       "    </tr>\n",
       "    <tr>\n",
       "      <th>5791</th>\n",
       "      <td>0</td>\n",
       "      <td>[i, m, one, of, the, but, it, s, not, working,...</td>\n",
       "      <td>00609.dd49926ce94a1ea328cce9b62825bc97</td>\n",
       "    </tr>\n",
       "    <tr>\n",
       "      <th>5792</th>\n",
       "      <td>0</td>\n",
       "      <td>[damien, morton, quoted, wc, approves, html, e...</td>\n",
       "      <td>00957.e0b56b117f3ec5f85e432a9d2a47801f</td>\n",
       "    </tr>\n",
       "    <tr>\n",
       "      <th>5793</th>\n",
       "      <td>0</td>\n",
       "      <td>[on, mon, at, che, wrote, thats, the, correct,...</td>\n",
       "      <td>01127.841233b48eceb74a825417d8d918abf8</td>\n",
       "    </tr>\n",
       "    <tr>\n",
       "      <th>5794</th>\n",
       "      <td>0</td>\n",
       "      <td>[once, upon, a, time, manfred, wrote, i, would...</td>\n",
       "      <td>01178.5c977dff972cd6eef64d4173b90307f0</td>\n",
       "    </tr>\n",
       "    <tr>\n",
       "      <th>5795</th>\n",
       "      <td>0</td>\n",
       "      <td>[if, you, run, pick, and, then, use, the, new,...</td>\n",
       "      <td>00747.352d424267d36975a7b40b85ffd0885e</td>\n",
       "    </tr>\n",
       "  </tbody>\n",
       "</table>\n",
       "<p>5796 rows × 3 columns</p>\n",
       "</div>"
      ],
      "text/plain": [
       "      CATEGORY                                            MESSAGE  \\\n",
       "0            1  [dear, homeowner, interest, rates, are, at, th...   \n",
       "1            1  [attention, this, is, a, must, for, all, compu...   \n",
       "2            1  [this, is, a, multi, part, message, in, mime, ...   \n",
       "3            1  [important, information, the, new, domain, nam...   \n",
       "4            1  [this, is, the, bottom, line, if, you, can, gi...   \n",
       "...        ...                                                ...   \n",
       "5791         0  [i, m, one, of, the, but, it, s, not, working,...   \n",
       "5792         0  [damien, morton, quoted, wc, approves, html, e...   \n",
       "5793         0  [on, mon, at, che, wrote, thats, the, correct,...   \n",
       "5794         0  [once, upon, a, time, manfred, wrote, i, would...   \n",
       "5795         0  [if, you, run, pick, and, then, use, the, new,...   \n",
       "\n",
       "                                   FILE_NAME  \n",
       "0     00249.5f45607c1bffe89f60ba1ec9f878039a  \n",
       "1     00373.ebe8670ac56b04125c25100a36ab0510  \n",
       "2     00214.1367039e50dc6b7adb0f2aa8aba83216  \n",
       "3     00210.050ffd105bd4e006771ee63cabc59978  \n",
       "4     00033.9babb58d9298daa2963d4f514193d7d6  \n",
       "...                                      ...  \n",
       "5791  00609.dd49926ce94a1ea328cce9b62825bc97  \n",
       "5792  00957.e0b56b117f3ec5f85e432a9d2a47801f  \n",
       "5793  01127.841233b48eceb74a825417d8d918abf8  \n",
       "5794  01178.5c977dff972cd6eef64d4173b90307f0  \n",
       "5795  00747.352d424267d36975a7b40b85ffd0885e  \n",
       "\n",
       "[5796 rows x 3 columns]"
      ]
     },
     "execution_count": 10,
     "metadata": {},
     "output_type": "execute_result"
    }
   ],
   "source": [
    "from nltk.tokenize import word_tokenize\n",
    "\n",
    "dataset.MESSAGE = [word_tokenize(msg) for msg in dataset.MESSAGE]\n",
    "dataset"
   ]
  },
  {
   "cell_type": "markdown",
   "id": "latter-investor",
   "metadata": {},
   "source": [
    "### 8. Menghilangkan Stopword"
   ]
  },
  {
   "cell_type": "code",
   "execution_count": 11,
   "id": "initial-dairy",
   "metadata": {},
   "outputs": [
    {
     "data": {
      "text/html": [
       "<div>\n",
       "<style scoped>\n",
       "    .dataframe tbody tr th:only-of-type {\n",
       "        vertical-align: middle;\n",
       "    }\n",
       "\n",
       "    .dataframe tbody tr th {\n",
       "        vertical-align: top;\n",
       "    }\n",
       "\n",
       "    .dataframe thead th {\n",
       "        text-align: right;\n",
       "    }\n",
       "</style>\n",
       "<table border=\"1\" class=\"dataframe\">\n",
       "  <thead>\n",
       "    <tr style=\"text-align: right;\">\n",
       "      <th></th>\n",
       "      <th>CATEGORY</th>\n",
       "      <th>MESSAGE</th>\n",
       "      <th>FILE_NAME</th>\n",
       "    </tr>\n",
       "  </thead>\n",
       "  <tbody>\n",
       "    <tr>\n",
       "      <th>0</th>\n",
       "      <td>1</td>\n",
       "      <td>[dear, homeowner, interest, rates, lowest, poi...</td>\n",
       "      <td>00249.5f45607c1bffe89f60ba1ec9f878039a</td>\n",
       "    </tr>\n",
       "    <tr>\n",
       "      <th>1</th>\n",
       "      <td>1</td>\n",
       "      <td>[attention, must, computer, users, new, specia...</td>\n",
       "      <td>00373.ebe8670ac56b04125c25100a36ab0510</td>\n",
       "    </tr>\n",
       "    <tr>\n",
       "      <th>2</th>\n",
       "      <td>1</td>\n",
       "      <td>[multi, part, message, mime, format, _nextpart...</td>\n",
       "      <td>00214.1367039e50dc6b7adb0f2aa8aba83216</td>\n",
       "    </tr>\n",
       "    <tr>\n",
       "      <th>3</th>\n",
       "      <td>1</td>\n",
       "      <td>[important, information, new, domain, names, f...</td>\n",
       "      <td>00210.050ffd105bd4e006771ee63cabc59978</td>\n",
       "    </tr>\n",
       "    <tr>\n",
       "      <th>4</th>\n",
       "      <td>1</td>\n",
       "      <td>[bottom, line, give, away, cd, free, people, l...</td>\n",
       "      <td>00033.9babb58d9298daa2963d4f514193d7d6</td>\n",
       "    </tr>\n",
       "    <tr>\n",
       "      <th>...</th>\n",
       "      <td>...</td>\n",
       "      <td>...</td>\n",
       "      <td>...</td>\n",
       "    </tr>\n",
       "    <tr>\n",
       "      <th>5791</th>\n",
       "      <td>0</td>\n",
       "      <td>[one, not, working, well, week, tes, updates, ...</td>\n",
       "      <td>00609.dd49926ce94a1ea328cce9b62825bc97</td>\n",
       "    </tr>\n",
       "    <tr>\n",
       "      <th>5792</th>\n",
       "      <td>0</td>\n",
       "      <td>[damien, morton, quoted, wc, approves, html, e...</td>\n",
       "      <td>00957.e0b56b117f3ec5f85e432a9d2a47801f</td>\n",
       "    </tr>\n",
       "    <tr>\n",
       "      <th>5793</th>\n",
       "      <td>0</td>\n",
       "      <td>[mon, che, wrote, thats, correct, lines, added...</td>\n",
       "      <td>01127.841233b48eceb74a825417d8d918abf8</td>\n",
       "    </tr>\n",
       "    <tr>\n",
       "      <th>5794</th>\n",
       "      <td>0</td>\n",
       "      <td>[upon, time, manfred, wrote, would, like, inst...</td>\n",
       "      <td>01178.5c977dff972cd6eef64d4173b90307f0</td>\n",
       "    </tr>\n",
       "    <tr>\n",
       "      <th>5795</th>\n",
       "      <td>0</td>\n",
       "      <td>[run, pick, use, new, ftoc, button, show, mess...</td>\n",
       "      <td>00747.352d424267d36975a7b40b85ffd0885e</td>\n",
       "    </tr>\n",
       "  </tbody>\n",
       "</table>\n",
       "<p>5796 rows × 3 columns</p>\n",
       "</div>"
      ],
      "text/plain": [
       "      CATEGORY                                            MESSAGE  \\\n",
       "0            1  [dear, homeowner, interest, rates, lowest, poi...   \n",
       "1            1  [attention, must, computer, users, new, specia...   \n",
       "2            1  [multi, part, message, mime, format, _nextpart...   \n",
       "3            1  [important, information, new, domain, names, f...   \n",
       "4            1  [bottom, line, give, away, cd, free, people, l...   \n",
       "...        ...                                                ...   \n",
       "5791         0  [one, not, working, well, week, tes, updates, ...   \n",
       "5792         0  [damien, morton, quoted, wc, approves, html, e...   \n",
       "5793         0  [mon, che, wrote, thats, correct, lines, added...   \n",
       "5794         0  [upon, time, manfred, wrote, would, like, inst...   \n",
       "5795         0  [run, pick, use, new, ftoc, button, show, mess...   \n",
       "\n",
       "                                   FILE_NAME  \n",
       "0     00249.5f45607c1bffe89f60ba1ec9f878039a  \n",
       "1     00373.ebe8670ac56b04125c25100a36ab0510  \n",
       "2     00214.1367039e50dc6b7adb0f2aa8aba83216  \n",
       "3     00210.050ffd105bd4e006771ee63cabc59978  \n",
       "4     00033.9babb58d9298daa2963d4f514193d7d6  \n",
       "...                                      ...  \n",
       "5791  00609.dd49926ce94a1ea328cce9b62825bc97  \n",
       "5792  00957.e0b56b117f3ec5f85e432a9d2a47801f  \n",
       "5793  01127.841233b48eceb74a825417d8d918abf8  \n",
       "5794  01178.5c977dff972cd6eef64d4173b90307f0  \n",
       "5795  00747.352d424267d36975a7b40b85ffd0885e  \n",
       "\n",
       "[5796 rows x 3 columns]"
      ]
     },
     "execution_count": 11,
     "metadata": {},
     "output_type": "execute_result"
    }
   ],
   "source": [
    "from nltk.corpus import stopwords\n",
    "\n",
    "stopword_list = set(stopwords.words('english')).difference(['no','not'])\n",
    "def remove_stopwords(msg):\n",
    "    cleaned = []\n",
    "    cleaned = [token for token in msg if token not in stopword_list]\n",
    "    return cleaned\n",
    "    \n",
    "dataset.MESSAGE = [remove_stopwords(msg) for msg in dataset.MESSAGE]\n",
    "dataset"
   ]
  },
  {
   "cell_type": "markdown",
   "id": "painful-floating",
   "metadata": {},
   "source": [
    "### 9. Stemming"
   ]
  },
  {
   "cell_type": "code",
   "execution_count": 12,
   "id": "relative-panel",
   "metadata": {},
   "outputs": [
    {
     "data": {
      "text/plain": [
       "0       [dear, homeown, interest, rate, lowest, point,...\n",
       "1       [attent, must, comput, user, new, special, pac...\n",
       "2       [multi, part, messag, mime, format, _nextpart_...\n",
       "3       [import, inform, new, domain, name, final, ava...\n",
       "4       [bottom, line, give, away, cd, free, peopl, li...\n",
       "                              ...                        \n",
       "5791    [one, not, work, well, week, te, updat, server...\n",
       "5792    [damien, morton, quot, wc, approv, html, emoti...\n",
       "5793    [mon, che, wrote, that, correct, line, ad, sou...\n",
       "5794    [upon, time, manfr, wrote, would, like, instal...\n",
       "5795    [run, pick, use, new, ftoc, button, show, mess...\n",
       "Name: MESSAGE, Length: 5796, dtype: object"
      ]
     },
     "execution_count": 12,
     "metadata": {},
     "output_type": "execute_result"
    }
   ],
   "source": [
    "from nltk.stem import PorterStemmer\n",
    "\n",
    "ps = PorterStemmer() \n",
    "\n",
    "def stem_words(msg):\n",
    "    stemmed = []\n",
    "    stemmed = [ps.stem(token) for token in msg]\n",
    "    return stemmed\n",
    "    \n",
    "dataset.MESSAGE = [stem_words(msg) for msg in dataset.MESSAGE]\n",
    "dataset.MESSAGE"
   ]
  },
  {
   "cell_type": "markdown",
   "id": "french-elements",
   "metadata": {},
   "source": [
    "### 10. Join Token kembali"
   ]
  },
  {
   "cell_type": "code",
   "execution_count": 13,
   "id": "integral-montana",
   "metadata": {},
   "outputs": [
    {
     "data": {
      "text/plain": [
       "0       dear homeown interest rate lowest point year h...\n",
       "1       attent must comput user new special packag dea...\n",
       "2       multi part messag mime format _nextpart__cdc_c...\n",
       "3       import inform new domain name final avail gene...\n",
       "4       bottom line give away cd free peopl like one m...\n",
       "                              ...                        \n",
       "5791    one not work well week te updat server not syn...\n",
       "5792    damien morton quot wc approv html emotitag abl...\n",
       "5793    mon che wrote that correct line ad sourc list ...\n",
       "5794    upon time manfr wrote would like instal rpm tr...\n",
       "5795    run pick use new ftoc button show messag selec...\n",
       "Name: MESSAGE, Length: 5796, dtype: object"
      ]
     },
     "execution_count": 13,
     "metadata": {},
     "output_type": "execute_result"
    }
   ],
   "source": [
    "dataset.MESSAGE = [\" \".join(msg) for msg in dataset.MESSAGE]\n",
    "dataset.MESSAGE"
   ]
  },
  {
   "cell_type": "markdown",
   "id": "weird-albert",
   "metadata": {},
   "source": [
    "### 11. Split Data"
   ]
  },
  {
   "cell_type": "code",
   "execution_count": 14,
   "id": "entitled-hawaii",
   "metadata": {},
   "outputs": [],
   "source": [
    "#split data\n",
    "from sklearn.model_selection import train_test_split\n",
    "\n",
    "dataset_x = dataset.iloc[:,1:]\n",
    "dataset_y = dataset.iloc[:,0]\n",
    "\n",
    "x_train, x_test, y_train, y_test = train_test_split(dataset_x, dataset_y, test_size=0.2)"
   ]
  },
  {
   "cell_type": "code",
   "execution_count": 15,
   "id": "virtual-sherman",
   "metadata": {},
   "outputs": [
    {
     "data": {
      "text/html": [
       "<div>\n",
       "<style scoped>\n",
       "    .dataframe tbody tr th:only-of-type {\n",
       "        vertical-align: middle;\n",
       "    }\n",
       "\n",
       "    .dataframe tbody tr th {\n",
       "        vertical-align: top;\n",
       "    }\n",
       "\n",
       "    .dataframe thead th {\n",
       "        text-align: right;\n",
       "    }\n",
       "</style>\n",
       "<table border=\"1\" class=\"dataframe\">\n",
       "  <thead>\n",
       "    <tr style=\"text-align: right;\">\n",
       "      <th></th>\n",
       "      <th>MESSAGE</th>\n",
       "      <th>FILE_NAME</th>\n",
       "    </tr>\n",
       "  </thead>\n",
       "  <tbody>\n",
       "    <tr>\n",
       "      <th>4218</th>\n",
       "      <td>russel turpin depend list collect even sender ...</td>\n",
       "      <td>00075.6485889c364c71761110c2b1190bb645</td>\n",
       "    </tr>\n",
       "    <tr>\n",
       "      <th>5588</th>\n",
       "      <td>use gnome half dozen sunray boxen tri get linu...</td>\n",
       "      <td>00293.d7d6f188d63d99da505b454c146dac77</td>\n",
       "    </tr>\n",
       "    <tr>\n",
       "      <th>4245</th>\n",
       "      <td>url url date game industri know mean say game ...</td>\n",
       "      <td>02321.0982ccadf7cc01460bc93bdebb833034</td>\n",
       "    </tr>\n",
       "    <tr>\n",
       "      <th>2286</th>\n",
       "      <td>messag date thu aug cdt ulis ponc said thank p...</td>\n",
       "      <td>01167.6c1a9d12bb40059b2b3aba3d1c5c0f3c</td>\n",
       "    </tr>\n",
       "    <tr>\n",
       "      <th>600</th>\n",
       "      <td>want make million buck year probabl not go hap...</td>\n",
       "      <td>00854.67c918e6654e70a0ed955afdf1ad81ed</td>\n",
       "    </tr>\n",
       "    <tr>\n",
       "      <th>...</th>\n",
       "      <td>...</td>\n",
       "      <td>...</td>\n",
       "    </tr>\n",
       "    <tr>\n",
       "      <th>2140</th>\n",
       "      <td>url url date not suppli img url biskup artist ...</td>\n",
       "      <td>02385.f62055b86361f86a511971dfcbe54fd6</td>\n",
       "    </tr>\n",
       "    <tr>\n",
       "      <th>2274</th>\n",
       "      <td>url url date not suppli url</td>\n",
       "      <td>01962.0d30a20c3c442d13266e8818fdbc2e40</td>\n",
       "    </tr>\n",
       "    <tr>\n",
       "      <th>2281</th>\n",
       "      <td>one bizarr page seen web first thought might s...</td>\n",
       "      <td>00831.dfa70bbdaef79d5863917ba90097ba7a</td>\n",
       "    </tr>\n",
       "    <tr>\n",
       "      <th>1804</th>\n",
       "      <td>power host limit time offer sign getfre domain...</td>\n",
       "      <td>00358.ccfcaa5984dc5db979ba41e0fcee87c3</td>\n",
       "    </tr>\n",
       "    <tr>\n",
       "      <th>2737</th>\n",
       "      <td>carlo luna wrote hi anyon know set dual keyboa...</td>\n",
       "      <td>02492.6aede44f654a1bbc60c95c7dd770e624</td>\n",
       "    </tr>\n",
       "  </tbody>\n",
       "</table>\n",
       "<p>4636 rows × 2 columns</p>\n",
       "</div>"
      ],
      "text/plain": [
       "                                                MESSAGE  \\\n",
       "4218  russel turpin depend list collect even sender ...   \n",
       "5588  use gnome half dozen sunray boxen tri get linu...   \n",
       "4245  url url date game industri know mean say game ...   \n",
       "2286  messag date thu aug cdt ulis ponc said thank p...   \n",
       "600   want make million buck year probabl not go hap...   \n",
       "...                                                 ...   \n",
       "2140  url url date not suppli img url biskup artist ...   \n",
       "2274                        url url date not suppli url   \n",
       "2281  one bizarr page seen web first thought might s...   \n",
       "1804  power host limit time offer sign getfre domain...   \n",
       "2737  carlo luna wrote hi anyon know set dual keyboa...   \n",
       "\n",
       "                                   FILE_NAME  \n",
       "4218  00075.6485889c364c71761110c2b1190bb645  \n",
       "5588  00293.d7d6f188d63d99da505b454c146dac77  \n",
       "4245  02321.0982ccadf7cc01460bc93bdebb833034  \n",
       "2286  01167.6c1a9d12bb40059b2b3aba3d1c5c0f3c  \n",
       "600   00854.67c918e6654e70a0ed955afdf1ad81ed  \n",
       "...                                      ...  \n",
       "2140  02385.f62055b86361f86a511971dfcbe54fd6  \n",
       "2274  01962.0d30a20c3c442d13266e8818fdbc2e40  \n",
       "2281  00831.dfa70bbdaef79d5863917ba90097ba7a  \n",
       "1804  00358.ccfcaa5984dc5db979ba41e0fcee87c3  \n",
       "2737  02492.6aede44f654a1bbc60c95c7dd770e624  \n",
       "\n",
       "[4636 rows x 2 columns]"
      ]
     },
     "execution_count": 15,
     "metadata": {},
     "output_type": "execute_result"
    }
   ],
   "source": [
    "x_train"
   ]
  },
  {
   "cell_type": "code",
   "execution_count": 16,
   "id": "angry-anime",
   "metadata": {},
   "outputs": [
    {
     "data": {
      "text/html": [
       "<div>\n",
       "<style scoped>\n",
       "    .dataframe tbody tr th:only-of-type {\n",
       "        vertical-align: middle;\n",
       "    }\n",
       "\n",
       "    .dataframe tbody tr th {\n",
       "        vertical-align: top;\n",
       "    }\n",
       "\n",
       "    .dataframe thead th {\n",
       "        text-align: right;\n",
       "    }\n",
       "</style>\n",
       "<table border=\"1\" class=\"dataframe\">\n",
       "  <thead>\n",
       "    <tr style=\"text-align: right;\">\n",
       "      <th></th>\n",
       "      <th>MESSAGE</th>\n",
       "      <th>FILE_NAME</th>\n",
       "    </tr>\n",
       "  </thead>\n",
       "  <tbody>\n",
       "    <tr>\n",
       "      <th>235</th>\n",
       "      <td>lose weight build lean muscl mass revers ravag...</td>\n",
       "      <td>00376.f4ed5f002f9b6b320a67f1da9cacbe72</td>\n",
       "    </tr>\n",
       "    <tr>\n",
       "      <th>399</th>\n",
       "      <td>javamail system emaserv content type text plai...</td>\n",
       "      <td>00191.9ff80a41f015b7a6c409732e41c0df07</td>\n",
       "    </tr>\n",
       "    <tr>\n",
       "      <th>2790</th>\n",
       "      <td>updat scan cach menu entri rescan folder simil...</td>\n",
       "      <td>00996.01a4386651fb07928d2314d8690e61cf</td>\n",
       "    </tr>\n",
       "    <tr>\n",
       "      <th>5755</th>\n",
       "      <td>engin use gener mechan genet inherit trait wit...</td>\n",
       "      <td>00852.07c49784957215c425e1aa26fba952e4</td>\n",
       "    </tr>\n",
       "    <tr>\n",
       "      <th>3019</th>\n",
       "      <td>url url date julian glover work john major aut...</td>\n",
       "      <td>02104.aecac880ad87b5a3e10b11414fe66746</td>\n",
       "    </tr>\n",
       "    <tr>\n",
       "      <th>...</th>\n",
       "      <td>...</td>\n",
       "      <td>...</td>\n",
       "    </tr>\n",
       "    <tr>\n",
       "      <th>3375</th>\n",
       "      <td>wrong busi web web form promis replac form cur...</td>\n",
       "      <td>00798.789e730c08cdcd58675c1f273fe507ab</td>\n",
       "    </tr>\n",
       "    <tr>\n",
       "      <th>886</th>\n",
       "      <td>ethnobotan herbalist brought herba supplement ...</td>\n",
       "      <td>00252.3b352c8a7266026be4f1c1ba89690cfc</td>\n",
       "    </tr>\n",
       "    <tr>\n",
       "      <th>3789</th>\n",
       "      <td>url url date _kevin fanning_ hallmark vs succe...</td>\n",
       "      <td>02088.17edeee5193df341ff427a8b9b20aadf</td>\n",
       "    </tr>\n",
       "    <tr>\n",
       "      <th>4756</th>\n",
       "      <td>hi pretti seriou crash list host weekend destr...</td>\n",
       "      <td>00487.4c0487a128123e92602005535955e7a1</td>\n",
       "    </tr>\n",
       "    <tr>\n",
       "      <th>4352</th>\n",
       "      <td>tri manag email domain host host tri get whole...</td>\n",
       "      <td>00089.c31c9b44b66c440d6b39c5f8841ed43b</td>\n",
       "    </tr>\n",
       "  </tbody>\n",
       "</table>\n",
       "<p>1160 rows × 2 columns</p>\n",
       "</div>"
      ],
      "text/plain": [
       "                                                MESSAGE  \\\n",
       "235   lose weight build lean muscl mass revers ravag...   \n",
       "399   javamail system emaserv content type text plai...   \n",
       "2790  updat scan cach menu entri rescan folder simil...   \n",
       "5755  engin use gener mechan genet inherit trait wit...   \n",
       "3019  url url date julian glover work john major aut...   \n",
       "...                                                 ...   \n",
       "3375  wrong busi web web form promis replac form cur...   \n",
       "886   ethnobotan herbalist brought herba supplement ...   \n",
       "3789  url url date _kevin fanning_ hallmark vs succe...   \n",
       "4756  hi pretti seriou crash list host weekend destr...   \n",
       "4352  tri manag email domain host host tri get whole...   \n",
       "\n",
       "                                   FILE_NAME  \n",
       "235   00376.f4ed5f002f9b6b320a67f1da9cacbe72  \n",
       "399   00191.9ff80a41f015b7a6c409732e41c0df07  \n",
       "2790  00996.01a4386651fb07928d2314d8690e61cf  \n",
       "5755  00852.07c49784957215c425e1aa26fba952e4  \n",
       "3019  02104.aecac880ad87b5a3e10b11414fe66746  \n",
       "...                                      ...  \n",
       "3375  00798.789e730c08cdcd58675c1f273fe507ab  \n",
       "886   00252.3b352c8a7266026be4f1c1ba89690cfc  \n",
       "3789  02088.17edeee5193df341ff427a8b9b20aadf  \n",
       "4756  00487.4c0487a128123e92602005535955e7a1  \n",
       "4352  00089.c31c9b44b66c440d6b39c5f8841ed43b  \n",
       "\n",
       "[1160 rows x 2 columns]"
      ]
     },
     "execution_count": 16,
     "metadata": {},
     "output_type": "execute_result"
    }
   ],
   "source": [
    "x_test"
   ]
  },
  {
   "cell_type": "code",
   "execution_count": 17,
   "id": "deadly-evolution",
   "metadata": {},
   "outputs": [
    {
     "data": {
      "text/plain": [
       "4218    0\n",
       "5588    0\n",
       "4245    0\n",
       "2286    0\n",
       "600     1\n",
       "       ..\n",
       "2140    0\n",
       "2274    0\n",
       "2281    0\n",
       "1804    1\n",
       "2737    0\n",
       "Name: CATEGORY, Length: 4636, dtype: int64"
      ]
     },
     "execution_count": 17,
     "metadata": {},
     "output_type": "execute_result"
    }
   ],
   "source": [
    "y_train"
   ]
  },
  {
   "cell_type": "code",
   "execution_count": 18,
   "id": "pacific-telephone",
   "metadata": {},
   "outputs": [
    {
     "data": {
      "text/plain": [
       "235     1\n",
       "399     1\n",
       "2790    0\n",
       "5755    0\n",
       "3019    0\n",
       "       ..\n",
       "3375    0\n",
       "886     1\n",
       "3789    0\n",
       "4756    0\n",
       "4352    0\n",
       "Name: CATEGORY, Length: 1160, dtype: int64"
      ]
     },
     "execution_count": 18,
     "metadata": {},
     "output_type": "execute_result"
    }
   ],
   "source": [
    "y_test"
   ]
  },
  {
   "cell_type": "markdown",
   "id": "simplified-bidder",
   "metadata": {},
   "source": [
    "### Export Clean Data to CSV"
   ]
  },
  {
   "cell_type": "code",
   "execution_count": 19,
   "id": "diagnostic-bloom",
   "metadata": {},
   "outputs": [],
   "source": [
    "dataset.iloc[:,0:2].to_csv('./email_text_clean.csv')"
   ]
  },
  {
   "cell_type": "markdown",
   "id": "vietnamese-board",
   "metadata": {},
   "source": [
    "---"
   ]
  },
  {
   "cell_type": "markdown",
   "id": "south-houston",
   "metadata": {},
   "source": [
    "## Feature Extraction"
   ]
  },
  {
   "cell_type": "code",
   "execution_count": 20,
   "id": "advance-pacific",
   "metadata": {},
   "outputs": [
    {
     "data": {
      "text/plain": [
       "1000"
      ]
     },
     "execution_count": 20,
     "metadata": {},
     "output_type": "execute_result"
    }
   ],
   "source": [
    "from sklearn.feature_extraction.text import TfidfVectorizer\n",
    "\n",
    "tfidfVector = TfidfVectorizer(max_features=1000)\n",
    "tfidf_x = tfidfVector.fit_transform(x_train.MESSAGE).toarray()\n",
    "len(tfidf_x[0])"
   ]
  },
  {
   "cell_type": "markdown",
   "id": "delayed-wesley",
   "metadata": {},
   "source": [
    "---"
   ]
  },
  {
   "cell_type": "markdown",
   "id": "respiratory-integration",
   "metadata": {},
   "source": [
    "## Modeling"
   ]
  },
  {
   "cell_type": "code",
   "execution_count": 21,
   "id": "noble-parts",
   "metadata": {},
   "outputs": [
    {
     "data": {
      "text/plain": [
       "SVC()"
      ]
     },
     "execution_count": 21,
     "metadata": {},
     "output_type": "execute_result"
    }
   ],
   "source": [
    "from sklearn.svm import SVC\n",
    "clf = SVC()\n",
    "clf.fit(tfidf_x, y_train)"
   ]
  },
  {
   "cell_type": "markdown",
   "id": "dynamic-lesson",
   "metadata": {},
   "source": [
    "---"
   ]
  },
  {
   "cell_type": "markdown",
   "id": "exterior-membership",
   "metadata": {},
   "source": [
    "## Evaluation"
   ]
  },
  {
   "cell_type": "code",
   "execution_count": 22,
   "id": "interpreted-israel",
   "metadata": {},
   "outputs": [],
   "source": [
    "y_train_pred = clf.predict(tfidf_x)"
   ]
  },
  {
   "cell_type": "code",
   "execution_count": 23,
   "id": "continued-bronze",
   "metadata": {},
   "outputs": [
    {
     "name": "stdout",
     "output_type": "stream",
     "text": [
      "[[3114    3]\n",
      " [   6 1513]]\n"
     ]
    }
   ],
   "source": [
    "from sklearn.metrics import confusion_matrix, classification_report\n",
    "cm_train = confusion_matrix(y_train, y_train_pred)\n",
    "\n",
    "print(cm_train)"
   ]
  },
  {
   "cell_type": "code",
   "execution_count": 24,
   "id": "occasional-reward",
   "metadata": {},
   "outputs": [
    {
     "name": "stdout",
     "output_type": "stream",
     "text": [
      "               precision    recall  f1-score   support\n",
      "\n",
      " class 0(ham)       1.00      1.00      1.00      3117\n",
      "class 1(spam)       1.00      1.00      1.00      1519\n",
      "\n",
      "     accuracy                           1.00      4636\n",
      "    macro avg       1.00      1.00      1.00      4636\n",
      " weighted avg       1.00      1.00      1.00      4636\n",
      "\n"
     ]
    }
   ],
   "source": [
    "target_names = ['class 0(ham)', 'class 1(spam)']\n",
    "print(classification_report(y_train, y_train_pred, labels=[0,1], target_names = target_names))"
   ]
  },
  {
   "cell_type": "code",
   "execution_count": 25,
   "id": "tribal-adaptation",
   "metadata": {},
   "outputs": [
    {
     "data": {
      "text/plain": [
       "1000"
      ]
     },
     "execution_count": 25,
     "metadata": {},
     "output_type": "execute_result"
    }
   ],
   "source": [
    "tfidf_test_x = tfidfVector.transform(x_test.MESSAGE).toarray()\n",
    "len(tfidf_test_x[0])"
   ]
  },
  {
   "cell_type": "code",
   "execution_count": 26,
   "id": "metropolitan-shooting",
   "metadata": {},
   "outputs": [],
   "source": [
    "y_test_pred = clf.predict(tfidf_test_x)"
   ]
  },
  {
   "cell_type": "code",
   "execution_count": 27,
   "id": "fitting-sphere",
   "metadata": {},
   "outputs": [
    {
     "name": "stdout",
     "output_type": "stream",
     "text": [
      "[[777   6]\n",
      " [ 16 361]]\n"
     ]
    }
   ],
   "source": [
    "cm_train = confusion_matrix(y_test, y_test_pred)\n",
    "\n",
    "print(cm_train)"
   ]
  },
  {
   "cell_type": "code",
   "execution_count": 28,
   "id": "german-bracelet",
   "metadata": {},
   "outputs": [
    {
     "name": "stdout",
     "output_type": "stream",
     "text": [
      "               precision    recall  f1-score   support\n",
      "\n",
      " class 0(ham)       0.98      0.99      0.99       783\n",
      "class 1(spam)       0.98      0.96      0.97       377\n",
      "\n",
      "     accuracy                           0.98      1160\n",
      "    macro avg       0.98      0.97      0.98      1160\n",
      " weighted avg       0.98      0.98      0.98      1160\n",
      "\n"
     ]
    }
   ],
   "source": [
    "print(classification_report(y_test, y_test_pred, labels=[0,1], target_names = target_names))"
   ]
  },
  {
   "cell_type": "markdown",
   "id": "upper-animal",
   "metadata": {},
   "source": [
    "---"
   ]
  },
  {
   "cell_type": "markdown",
   "id": "radical-heavy",
   "metadata": {},
   "source": [
    "## Predict New Data"
   ]
  },
  {
   "cell_type": "code",
   "execution_count": 29,
   "id": "automated-installation",
   "metadata": {},
   "outputs": [],
   "source": [
    "email_body = \"\"\"Dear Mr Still\n",
    "\n",
    "Good tidings to you and all your staff for the festive season ahead (Christmas).\n",
    "Now to the crux of the matter-in-hand: I am a fully qualified Santa Claus and am wondering whether you might consider me to run my own \"Santa's Grotto\" in your store.\n",
    "But WAIT! You're probably thinking: \"What makes him so special?\"\n",
    "Well, first of all, I have made several changes to the characterisation of Father Christmas. Rather than greeting the children with shouts of \"Ho, ho, ho!\" I prefer to whisper the phrase \"Dependence is not unfathomable in this cruel world we live in\". In addition, my gifts are ALL hand-made, ranging from felt hoops to vanilla-pod holders.\n",
    "You will note also, from the enclosed sketch, that I have radically redesigned Santa's outfit and have renamed my character \"Lord Buckles\". Would you be interested in employing me? I promise NEVER to let you down.\n",
    "I look forward to hearing from you.\n",
    "\n",
    "Best wishes\n",
    "Robin Cooper\"\"\"\n",
    "\n"
   ]
  },
  {
   "cell_type": "markdown",
   "id": "existing-terminal",
   "metadata": {},
   "source": [
    "###  1. Ubah ke Lowercase"
   ]
  },
  {
   "cell_type": "code",
   "execution_count": 30,
   "id": "heavy-carroll",
   "metadata": {
    "scrolled": true
   },
   "outputs": [
    {
     "data": {
      "text/plain": [
       "'dear mr still\\n\\ngood tidings to you and all your staff for the festive season ahead (christmas).\\nnow to the crux of the matter-in-hand: i am a fully qualified santa claus and am wondering whether you might consider me to run my own \"santa\\'s grotto\" in your store.\\nbut wait! you\\'re probably thinking: \"what makes him so special?\"\\nwell, first of all, i have made several changes to the characterisation of father christmas. rather than greeting the children with shouts of \"ho, ho, ho!\" i prefer to whisper the phrase \"dependence is not unfathomable in this cruel world we live in\". in addition, my gifts are all hand-made, ranging from felt hoops to vanilla-pod holders.\\nyou will note also, from the enclosed sketch, that i have radically redesigned santa\\'s outfit and have renamed my character \"lord buckles\". would you be interested in employing me? i promise never to let you down.\\ni look forward to hearing from you.\\n\\nbest wishes\\nrobin cooper'"
      ]
     },
     "execution_count": 30,
     "metadata": {},
     "output_type": "execute_result"
    }
   ],
   "source": [
    "email_body = email_body.lower()\n",
    "email_body"
   ]
  },
  {
   "cell_type": "markdown",
   "id": "consecutive-intellectual",
   "metadata": {},
   "source": [
    "### 2. Menghilangkan Tag HTML"
   ]
  },
  {
   "cell_type": "code",
   "execution_count": 31,
   "id": "close-hobby",
   "metadata": {},
   "outputs": [
    {
     "data": {
      "text/plain": [
       "'dear mr still\\n\\ngood tidings to you and all your staff for the festive season ahead (christmas).\\nnow to the crux of the matter-in-hand: i am a fully qualified santa claus and am wondering whether you might consider me to run my own \"santa\\'s grotto\" in your store.\\nbut wait! you\\'re probably thinking: \"what makes him so special?\"\\nwell, first of all, i have made several changes to the characterisation of father christmas. rather than greeting the children with shouts of \"ho, ho, ho!\" i prefer to whisper the phrase \"dependence is not unfathomable in this cruel world we live in\". in addition, my gifts are all hand-made, ranging from felt hoops to vanilla-pod holders.\\nyou will note also, from the enclosed sketch, that i have radically redesigned santa\\'s outfit and have renamed my character \"lord buckles\". would you be interested in employing me? i promise never to let you down.\\ni look forward to hearing from you.\\n\\nbest wishes\\nrobin cooper'"
      ]
     },
     "execution_count": 31,
     "metadata": {},
     "output_type": "execute_result"
    }
   ],
   "source": [
    "email_body = bs(email_body).get_text()\n",
    "email_body"
   ]
  },
  {
   "cell_type": "markdown",
   "id": "alleged-arlington",
   "metadata": {},
   "source": [
    "### 3. Standarisasi URL"
   ]
  },
  {
   "cell_type": "code",
   "execution_count": 32,
   "id": "reflected-disco",
   "metadata": {
    "scrolled": false
   },
   "outputs": [
    {
     "data": {
      "text/plain": [
       "'dear mr still\\n\\ngood tidings to you and all your staff for the festive season ahead (christmas).\\nnow to the crux of the matter-in-hand: i am a fully qualified santa claus and am wondering whether you might consider me to run my own \"santa\\'s grotto\" in your store.\\nbut wait! you\\'re probably thinking: \"what makes him so special?\"\\nwell, first of all, i have made several changes to the characterisation of father christmas. rather than greeting the children with shouts of \"ho, ho, ho!\" i prefer to whisper the phrase \"dependence is not unfathomable in this cruel world we live in\". in addition, my gifts are all hand-made, ranging from felt hoops to vanilla-pod holders.\\nyou will note also, from the enclosed sketch, that i have radically redesigned santa\\'s outfit and have renamed my character \"lord buckles\". would you be interested in employing me? i promise never to let you down.\\ni look forward to hearing from you.\\n\\nbest wishes\\nrobin cooper'"
      ]
     },
     "execution_count": 32,
     "metadata": {},
     "output_type": "execute_result"
    }
   ],
   "source": [
    "email_body = re.sub(\"(http|https)://\\S+\", \" url \",email_body )\n",
    "email_body"
   ]
  },
  {
   "cell_type": "markdown",
   "id": "south-invasion",
   "metadata": {},
   "source": [
    "### 4.Standarisasi Email Address"
   ]
  },
  {
   "cell_type": "code",
   "execution_count": 33,
   "id": "printable-memorial",
   "metadata": {
    "scrolled": true
   },
   "outputs": [
    {
     "data": {
      "text/plain": [
       "'dear mr still\\n\\ngood tidings to you and all your staff for the festive season ahead (christmas).\\nnow to the crux of the matter-in-hand: i am a fully qualified santa claus and am wondering whether you might consider me to run my own \"santa\\'s grotto\" in your store.\\nbut wait! you\\'re probably thinking: \"what makes him so special?\"\\nwell, first of all, i have made several changes to the characterisation of father christmas. rather than greeting the children with shouts of \"ho, ho, ho!\" i prefer to whisper the phrase \"dependence is not unfathomable in this cruel world we live in\". in addition, my gifts are all hand-made, ranging from felt hoops to vanilla-pod holders.\\nyou will note also, from the enclosed sketch, that i have radically redesigned santa\\'s outfit and have renamed my character \"lord buckles\". would you be interested in employing me? i promise never to let you down.\\ni look forward to hearing from you.\\n\\nbest wishes\\nrobin cooper'"
      ]
     },
     "execution_count": 33,
     "metadata": {},
     "output_type": "execute_result"
    }
   ],
   "source": [
    "email_body = re.sub(\".*@\\S+\", \" email \",email_body)\n",
    "email_body"
   ]
  },
  {
   "cell_type": "markdown",
   "id": "hungry-pacific",
   "metadata": {},
   "source": [
    "### 5. Menghilangkan karakter kontrol"
   ]
  },
  {
   "cell_type": "code",
   "execution_count": 34,
   "id": "alien-factor",
   "metadata": {
    "scrolled": true
   },
   "outputs": [
    {
     "data": {
      "text/plain": [
       "'dear mr still  good tidings to you and all your staff for the festive season ahead (christmas). now to the crux of the matter-in-hand: i am a fully qualified santa claus and am wondering whether you might consider me to run my own \"santa\\'s grotto\" in your store. but wait! you\\'re probably thinking: \"what makes him so special?\" well, first of all, i have made several changes to the characterisation of father christmas. rather than greeting the children with shouts of \"ho, ho, ho!\" i prefer to whisper the phrase \"dependence is not unfathomable in this cruel world we live in\". in addition, my gifts are all hand-made, ranging from felt hoops to vanilla-pod holders. you will note also, from the enclosed sketch, that i have radically redesigned santa\\'s outfit and have renamed my character \"lord buckles\". would you be interested in employing me? i promise never to let you down. i look forward to hearing from you.  best wishes robin cooper'"
      ]
     },
     "execution_count": 34,
     "metadata": {},
     "output_type": "execute_result"
    }
   ],
   "source": [
    "email_body = re.sub(\"\\n\", \" \",email_body )\n",
    "email_body"
   ]
  },
  {
   "cell_type": "markdown",
   "id": "destroyed-slovakia",
   "metadata": {},
   "source": [
    "### 6. Menghilangkan nomor dan simbol"
   ]
  },
  {
   "cell_type": "code",
   "execution_count": 35,
   "id": "continuous-advertising",
   "metadata": {
    "scrolled": true
   },
   "outputs": [
    {
     "data": {
      "text/plain": [
       "'dear mr still  good tidings to you and all your staff for the festive season ahead  christmas   now to the crux of the matter in hand  i am a fully qualified santa claus and am wondering whether you might consider me to run my own  santa s grotto  in your store  but wait  you re probably thinking   what makes him so special   well  first of all  i have made several changes to the characterisation of father christmas  rather than greeting the children with shouts of  ho  ho  ho   i prefer to whisper the phrase  dependence is not unfathomable in this cruel world we live in   in addition  my gifts are all hand made  ranging from felt hoops to vanilla pod holders  you will note also  from the enclosed sketch  that i have radically redesigned santa s outfit and have renamed my character  lord buckles   would you be interested in employing me  i promise never to let you down  i look forward to hearing from you   best wishes robin cooper'"
      ]
     },
     "execution_count": 35,
     "metadata": {},
     "output_type": "execute_result"
    }
   ],
   "source": [
    "email_body = re.sub(\"\\d\", \"\",email_body)\n",
    "email_body = re.sub(\"\\W\", \" \",email_body)\n",
    "email_body"
   ]
  },
  {
   "cell_type": "markdown",
   "id": "minor-conditions",
   "metadata": {},
   "source": [
    "### 7. Tokenisasi"
   ]
  },
  {
   "cell_type": "code",
   "execution_count": 36,
   "id": "significant-horizontal",
   "metadata": {},
   "outputs": [
    {
     "data": {
      "text/plain": [
       "['dear',\n",
       " 'mr',\n",
       " 'still',\n",
       " 'good',\n",
       " 'tidings',\n",
       " 'to',\n",
       " 'you',\n",
       " 'and',\n",
       " 'all',\n",
       " 'your',\n",
       " 'staff',\n",
       " 'for',\n",
       " 'the',\n",
       " 'festive',\n",
       " 'season',\n",
       " 'ahead',\n",
       " 'christmas',\n",
       " 'now',\n",
       " 'to',\n",
       " 'the',\n",
       " 'crux',\n",
       " 'of',\n",
       " 'the',\n",
       " 'matter',\n",
       " 'in',\n",
       " 'hand',\n",
       " 'i',\n",
       " 'am',\n",
       " 'a',\n",
       " 'fully',\n",
       " 'qualified',\n",
       " 'santa',\n",
       " 'claus',\n",
       " 'and',\n",
       " 'am',\n",
       " 'wondering',\n",
       " 'whether',\n",
       " 'you',\n",
       " 'might',\n",
       " 'consider',\n",
       " 'me',\n",
       " 'to',\n",
       " 'run',\n",
       " 'my',\n",
       " 'own',\n",
       " 'santa',\n",
       " 's',\n",
       " 'grotto',\n",
       " 'in',\n",
       " 'your',\n",
       " 'store',\n",
       " 'but',\n",
       " 'wait',\n",
       " 'you',\n",
       " 're',\n",
       " 'probably',\n",
       " 'thinking',\n",
       " 'what',\n",
       " 'makes',\n",
       " 'him',\n",
       " 'so',\n",
       " 'special',\n",
       " 'well',\n",
       " 'first',\n",
       " 'of',\n",
       " 'all',\n",
       " 'i',\n",
       " 'have',\n",
       " 'made',\n",
       " 'several',\n",
       " 'changes',\n",
       " 'to',\n",
       " 'the',\n",
       " 'characterisation',\n",
       " 'of',\n",
       " 'father',\n",
       " 'christmas',\n",
       " 'rather',\n",
       " 'than',\n",
       " 'greeting',\n",
       " 'the',\n",
       " 'children',\n",
       " 'with',\n",
       " 'shouts',\n",
       " 'of',\n",
       " 'ho',\n",
       " 'ho',\n",
       " 'ho',\n",
       " 'i',\n",
       " 'prefer',\n",
       " 'to',\n",
       " 'whisper',\n",
       " 'the',\n",
       " 'phrase',\n",
       " 'dependence',\n",
       " 'is',\n",
       " 'not',\n",
       " 'unfathomable',\n",
       " 'in',\n",
       " 'this',\n",
       " 'cruel',\n",
       " 'world',\n",
       " 'we',\n",
       " 'live',\n",
       " 'in',\n",
       " 'in',\n",
       " 'addition',\n",
       " 'my',\n",
       " 'gifts',\n",
       " 'are',\n",
       " 'all',\n",
       " 'hand',\n",
       " 'made',\n",
       " 'ranging',\n",
       " 'from',\n",
       " 'felt',\n",
       " 'hoops',\n",
       " 'to',\n",
       " 'vanilla',\n",
       " 'pod',\n",
       " 'holders',\n",
       " 'you',\n",
       " 'will',\n",
       " 'note',\n",
       " 'also',\n",
       " 'from',\n",
       " 'the',\n",
       " 'enclosed',\n",
       " 'sketch',\n",
       " 'that',\n",
       " 'i',\n",
       " 'have',\n",
       " 'radically',\n",
       " 'redesigned',\n",
       " 'santa',\n",
       " 's',\n",
       " 'outfit',\n",
       " 'and',\n",
       " 'have',\n",
       " 'renamed',\n",
       " 'my',\n",
       " 'character',\n",
       " 'lord',\n",
       " 'buckles',\n",
       " 'would',\n",
       " 'you',\n",
       " 'be',\n",
       " 'interested',\n",
       " 'in',\n",
       " 'employing',\n",
       " 'me',\n",
       " 'i',\n",
       " 'promise',\n",
       " 'never',\n",
       " 'to',\n",
       " 'let',\n",
       " 'you',\n",
       " 'down',\n",
       " 'i',\n",
       " 'look',\n",
       " 'forward',\n",
       " 'to',\n",
       " 'hearing',\n",
       " 'from',\n",
       " 'you',\n",
       " 'best',\n",
       " 'wishes',\n",
       " 'robin',\n",
       " 'cooper']"
      ]
     },
     "execution_count": 36,
     "metadata": {},
     "output_type": "execute_result"
    }
   ],
   "source": [
    "from nltk.tokenize import word_tokenize\n",
    "\n",
    "email_body = word_tokenize(email_body)\n",
    "email_body"
   ]
  },
  {
   "cell_type": "markdown",
   "id": "printable-playing",
   "metadata": {},
   "source": [
    "### 8. Menghilangkan Stopword"
   ]
  },
  {
   "cell_type": "code",
   "execution_count": 37,
   "id": "seven-pontiac",
   "metadata": {},
   "outputs": [
    {
     "data": {
      "text/plain": [
       "['dear',\n",
       " 'mr',\n",
       " 'still',\n",
       " 'good',\n",
       " 'tidings',\n",
       " 'staff',\n",
       " 'festive',\n",
       " 'season',\n",
       " 'ahead',\n",
       " 'christmas',\n",
       " 'crux',\n",
       " 'matter',\n",
       " 'hand',\n",
       " 'fully',\n",
       " 'qualified',\n",
       " 'santa',\n",
       " 'claus',\n",
       " 'wondering',\n",
       " 'whether',\n",
       " 'might',\n",
       " 'consider',\n",
       " 'run',\n",
       " 'santa',\n",
       " 'grotto',\n",
       " 'store',\n",
       " 'wait',\n",
       " 'probably',\n",
       " 'thinking',\n",
       " 'makes',\n",
       " 'special',\n",
       " 'well',\n",
       " 'first',\n",
       " 'made',\n",
       " 'several',\n",
       " 'changes',\n",
       " 'characterisation',\n",
       " 'father',\n",
       " 'christmas',\n",
       " 'rather',\n",
       " 'greeting',\n",
       " 'children',\n",
       " 'shouts',\n",
       " 'ho',\n",
       " 'ho',\n",
       " 'ho',\n",
       " 'prefer',\n",
       " 'whisper',\n",
       " 'phrase',\n",
       " 'dependence',\n",
       " 'not',\n",
       " 'unfathomable',\n",
       " 'cruel',\n",
       " 'world',\n",
       " 'live',\n",
       " 'addition',\n",
       " 'gifts',\n",
       " 'hand',\n",
       " 'made',\n",
       " 'ranging',\n",
       " 'felt',\n",
       " 'hoops',\n",
       " 'vanilla',\n",
       " 'pod',\n",
       " 'holders',\n",
       " 'note',\n",
       " 'also',\n",
       " 'enclosed',\n",
       " 'sketch',\n",
       " 'radically',\n",
       " 'redesigned',\n",
       " 'santa',\n",
       " 'outfit',\n",
       " 'renamed',\n",
       " 'character',\n",
       " 'lord',\n",
       " 'buckles',\n",
       " 'would',\n",
       " 'interested',\n",
       " 'employing',\n",
       " 'promise',\n",
       " 'never',\n",
       " 'let',\n",
       " 'look',\n",
       " 'forward',\n",
       " 'hearing',\n",
       " 'best',\n",
       " 'wishes',\n",
       " 'robin',\n",
       " 'cooper']"
      ]
     },
     "execution_count": 37,
     "metadata": {},
     "output_type": "execute_result"
    }
   ],
   "source": [
    "from nltk.corpus import stopwords\n",
    "\n",
    "stopword_list = set(stopwords.words('english')).difference(['no','not'])\n",
    "def remove_stopwords(msg):\n",
    "    cleaned = []\n",
    "    cleaned = [token for token in msg if token not in stopword_list]\n",
    "    return cleaned\n",
    "    \n",
    "email_body = remove_stopwords(email_body)\n",
    "email_body"
   ]
  },
  {
   "cell_type": "markdown",
   "id": "suspended-forest",
   "metadata": {},
   "source": [
    "### 9. Stemming"
   ]
  },
  {
   "cell_type": "code",
   "execution_count": 38,
   "id": "median-seeker",
   "metadata": {},
   "outputs": [
    {
     "data": {
      "text/plain": [
       "['dear',\n",
       " 'mr',\n",
       " 'still',\n",
       " 'good',\n",
       " 'tide',\n",
       " 'staff',\n",
       " 'festiv',\n",
       " 'season',\n",
       " 'ahead',\n",
       " 'christma',\n",
       " 'crux',\n",
       " 'matter',\n",
       " 'hand',\n",
       " 'fulli',\n",
       " 'qualifi',\n",
       " 'santa',\n",
       " 'clau',\n",
       " 'wonder',\n",
       " 'whether',\n",
       " 'might',\n",
       " 'consid',\n",
       " 'run',\n",
       " 'santa',\n",
       " 'grotto',\n",
       " 'store',\n",
       " 'wait',\n",
       " 'probabl',\n",
       " 'think',\n",
       " 'make',\n",
       " 'special',\n",
       " 'well',\n",
       " 'first',\n",
       " 'made',\n",
       " 'sever',\n",
       " 'chang',\n",
       " 'characteris',\n",
       " 'father',\n",
       " 'christma',\n",
       " 'rather',\n",
       " 'greet',\n",
       " 'children',\n",
       " 'shout',\n",
       " 'ho',\n",
       " 'ho',\n",
       " 'ho',\n",
       " 'prefer',\n",
       " 'whisper',\n",
       " 'phrase',\n",
       " 'depend',\n",
       " 'not',\n",
       " 'unfathom',\n",
       " 'cruel',\n",
       " 'world',\n",
       " 'live',\n",
       " 'addit',\n",
       " 'gift',\n",
       " 'hand',\n",
       " 'made',\n",
       " 'rang',\n",
       " 'felt',\n",
       " 'hoop',\n",
       " 'vanilla',\n",
       " 'pod',\n",
       " 'holder',\n",
       " 'note',\n",
       " 'also',\n",
       " 'enclos',\n",
       " 'sketch',\n",
       " 'radic',\n",
       " 'redesign',\n",
       " 'santa',\n",
       " 'outfit',\n",
       " 'renam',\n",
       " 'charact',\n",
       " 'lord',\n",
       " 'buckl',\n",
       " 'would',\n",
       " 'interest',\n",
       " 'employ',\n",
       " 'promis',\n",
       " 'never',\n",
       " 'let',\n",
       " 'look',\n",
       " 'forward',\n",
       " 'hear',\n",
       " 'best',\n",
       " 'wish',\n",
       " 'robin',\n",
       " 'cooper']"
      ]
     },
     "execution_count": 38,
     "metadata": {},
     "output_type": "execute_result"
    }
   ],
   "source": [
    "from nltk.stem import PorterStemmer\n",
    "\n",
    "ps = PorterStemmer() \n",
    "\n",
    "def stem_words(msg):\n",
    "    stemmed = []\n",
    "    stemmed = [ps.stem(token) for token in msg]\n",
    "    return stemmed\n",
    "    \n",
    "email_body = stem_words(email_body)\n",
    "email_body"
   ]
  },
  {
   "cell_type": "markdown",
   "id": "balanced-perry",
   "metadata": {},
   "source": [
    "### 10. Join Token kembali"
   ]
  },
  {
   "cell_type": "code",
   "execution_count": 39,
   "id": "molecular-quick",
   "metadata": {
    "scrolled": true
   },
   "outputs": [
    {
     "data": {
      "text/plain": [
       "'dear mr still good tide staff festiv season ahead christma crux matter hand fulli qualifi santa clau wonder whether might consid run santa grotto store wait probabl think make special well first made sever chang characteris father christma rather greet children shout ho ho ho prefer whisper phrase depend not unfathom cruel world live addit gift hand made rang felt hoop vanilla pod holder note also enclos sketch radic redesign santa outfit renam charact lord buckl would interest employ promis never let look forward hear best wish robin cooper'"
      ]
     },
     "execution_count": 39,
     "metadata": {},
     "output_type": "execute_result"
    }
   ],
   "source": [
    "email_body = \" \".join(email_body)\n",
    "email_body"
   ]
  },
  {
   "cell_type": "code",
   "execution_count": 40,
   "id": "peaceful-medicine",
   "metadata": {},
   "outputs": [
    {
     "data": {
      "text/plain": [
       "1000"
      ]
     },
     "execution_count": 40,
     "metadata": {},
     "output_type": "execute_result"
    }
   ],
   "source": [
    "tfidf_new_x = tfidfVector.transform([email_body]).toarray()\n",
    "len(tfidf_new_x[0])"
   ]
  },
  {
   "cell_type": "code",
   "execution_count": 41,
   "id": "adapted-eligibility",
   "metadata": {},
   "outputs": [
    {
     "data": {
      "text/plain": [
       "array([0])"
      ]
     },
     "execution_count": 41,
     "metadata": {},
     "output_type": "execute_result"
    }
   ],
   "source": [
    "y_new_pred = clf.predict(tfidf_new_x)\n",
    "y_new_pred"
   ]
  },
  {
   "cell_type": "code",
   "execution_count": null,
   "id": "pretty-sheriff",
   "metadata": {},
   "outputs": [],
   "source": []
  }
 ],
 "metadata": {
  "kernelspec": {
   "display_name": "Python 3",
   "language": "python",
   "name": "python3"
  },
  "language_info": {
   "codemirror_mode": {
    "name": "ipython",
    "version": 3
   },
   "file_extension": ".py",
   "mimetype": "text/x-python",
   "name": "python",
   "nbconvert_exporter": "python",
   "pygments_lexer": "ipython3",
   "version": "3.8.5"
  }
 },
 "nbformat": 4,
 "nbformat_minor": 5
}
